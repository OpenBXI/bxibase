{
 "cells": [
  {
   "cell_type": "markdown",
   "metadata": {},
   "source": [
    "# How to start right out of the box?"
   ]
  },
  {
   "cell_type": "markdown",
   "metadata": {},
   "source": [
    "# What is it?\n",
    "\n",
    "Provide basic C libraries for high-level programming. See [High Level Programming in C]( https://github.com/OpenBXI/bxibase/blob/master/misc/articles/hlpic/High%20Level%20Programming%20in%20C.ipynb)\n",
    "for details.\n",
    "\n",
    "# Main Features\n",
    "\n",
    "* Fail-fast memory management\n",
    "* Rich and efficient error handling\n",
    "* Easy string manipulation\n",
    "* Zeromq wrapper to ease safe concurrent/Parallel and distributed programming\n",
    "* Fast and full featured logging mechanism"
   ]
  },
  {
   "cell_type": "code",
   "execution_count": null,
   "metadata": {
    "collapsed": true
   },
   "outputs": [],
   "source": []
  }
 ],
 "metadata": {
  "kernelspec": {
   "display_name": "Python 2",
   "language": "python",
   "name": "python2"
  },
  "language_info": {
   "codemirror_mode": {
    "name": "ipython",
    "version": 2
   },
   "file_extension": ".py",
   "mimetype": "text/x-python",
   "name": "python",
   "nbconvert_exporter": "python",
   "pygments_lexer": "ipython2",
   "version": "2.7.12"
  }
 },
 "nbformat": 4,
 "nbformat_minor": 1
}
