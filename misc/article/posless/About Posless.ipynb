{
 "cells": [
  {
   "cell_type": "markdown",
   "metadata": {},
   "source": [
    "# Introduction to posless (bxibase > 6.x)\n",
    "\n",
    "Version 6.x of bxi.base.parserconf supports command-based configuration files. That is, a configuration file can be specific to a given command. When launching a new command say `bxi-foo`, a configuration file for that command is looked for. The location file depends on various parameters described below:\n",
    "\n",
    "0. If a file is specified with the option `--config-file`, it is directly used.\n",
    "1. Otherwise, if a specific directory is specified with option `--config-dir`, it is used to find configuration files according to the policy defined below. Else, if the user is root, files are searched in `/etc`, otherwise, they are searched in `~/.config/`. \n",
    "2. Unless a specific directory is specified with option `--config-dir`, the `config_dirname` passed to `parserconf.addargs()`, is appended to the path. It defaults to `bxi`. Therefore, files are searched in `/etc/bxi/` when launched as root, or `~/.config/bxi` when launched as a normal user by default.\n",
    "3. Then if a file named `bxi-foo.conf` is found, it is used for the configuration of that `bxi-foo` command.\n",
    "4. Otherwise, if a `domain_name` say `bar` has been given to the `parserconf.addargs()`, and if a file named `bar.conf` exists in that path, it is used for that `bxi-foo` command.\n",
    "5. Otherwise, if a file named `default.conf` is found, it is used for that `bxi-foo` command.\n",
    "\n",
    "The `bxibase` package provides the `bxilog-posless.py` command in the documentation examples directory.\n",
    "Its content is rather simple:"
   ]
  },
  {
   "cell_type": "code",
   "execution_count": 12,
   "metadata": {
    "collapsed": false
   },
   "outputs": [
    {
     "name": "stdout",
     "output_type": "stream",
     "text": [
      "#!/usr/bin/env python\n",
      "\n",
      "import sys\n",
      "import bxi.base.log as bxilog\n",
      "import bxi.base.posless as posless\n",
      "import bxi.base.parserconf as bxiparserconf\n",
      "\n",
      "if __name__ == '__main__':\n",
      "    parser = posless.ArgumentParser(description='BXI Log Posless Example',\n",
      "                                   formatter_class=bxiparserconf.FilteredHelpFormatter)\n",
      "\n",
      "    # Do it first!\n",
      "    bxiparserconf.addargs(parser, domain_name='bar')\n",
      "\n",
      "    default = bxiparserconf.getdefaultvalue(parser, ['My Section'], 'variable',\n",
      "                                            bxilog.getLogger('config'),\n",
      "                                            'Default_Value',\n",
      "                                            None,\n",
      "                                            )\n",
      "    parser.add_argument('--variable', default=default,\n",
      "                        envvar='VAR',\n",
      "                        help=\"Do something with variable. Current: %(default)s.\")\n",
      "    default = bxiparserconf.getdefaultvalue(parser, ['My Section'], 'stuff',\n",
      "                                            bxilog.getLogger('config'),\n",
      "                                            'Default_stuff',\n",
      "                                            None,\n",
      "                                            )\n",
      "    parser.add_argument('--stuff', default=default,\n",
      "                        help=\"Do something with stuff. Current: %(default)s.\")\n",
      "    \n",
      "    args = parser.parse_args()\n",
      "    \n",
      "    bxilog.out(\"Value of variable: %s\", args.variable)\n",
      "    bxilog.out(\"Value of stuff: %s\", args.stuff)\n",
      "        \n",
      "    one = bxilog.getLogger('one.logger')\n",
      "    other = bxilog.getLogger('another.logger')\n",
      "    history = bxilog.getLogger('history') \n",
      "    \n",
      "    # This log will go only to the history according to the configuration\n",
      "    history.out(\"This process just starts, arguments: %s\", sys.argv)\n",
      "\n",
      "    # All log below will be sent to all other handlers\n",
      "    bxilog.out(\"Starting\")\n",
      "    one.info(\"Something\")\n",
      "    other.debug(\"Something else\")\n",
      "    \n",
      "    one.error(\"Something wrong happened?\")\n",
      "    other.critical(\"And here, something even worse!\")\n",
      "    \n",
      "    history.out(\"This process ends normally\")"
     ]
    }
   ],
   "source": [
    "%%bash\n",
    "\n",
    "cat ../../../packaged/doc/examples/bxilog-posless"
   ]
  },
  {
   "cell_type": "markdown",
   "metadata": {},
   "source": [
    "First let's have a look at its usage:"
   ]
  },
  {
   "cell_type": "code",
   "execution_count": 13,
   "metadata": {
    "collapsed": false
   },
   "outputs": [
    {
     "name": "stdout",
     "output_type": "stream",
     "text": [
      "usage: bxilog-posless [-h] [--config-dir DIR] [-C FILE] [--help-logs] [--loglevels] [--output-default-logcfg]\n",
      "                      [--logcfgfile logcfgfile] [-l log-console-filters] [--log-file-filters log-file-filters]\n",
      "                      [--log-file-path PATH] [--help-full] [--variable VARIABLE] [--stuff STUFF]\n",
      "\n",
      "BXI Log Posless Example\n",
      "\n",
      "optional arguments:\n",
      "  -h, --help           show this help message and exit\n",
      "  --help-logs          show detailed logging options and exit\n",
      "  --help-full          show all options and exit\n",
      "  --variable VARIABLE  Do something with variable. Current: Default_Value.\n",
      "  --stuff STUFF        Do something with stuff. Current: Default_stuff.\n",
      "\n",
      "File Based Configuration:\n",
      "  --config-dir DIR     The directory where the configuration file must be looked for. Value: /home/vigneras/.config/bxi.\n",
      "                       Environment variable: BXICONFIGDIR\n"
     ]
    }
   ],
   "source": [
    "%%bash \n",
    "\n",
    "../../../packaged/doc/examples/bxilog-posless --help"
   ]
  },
  {
   "cell_type": "markdown",
   "metadata": {
    "collapsed": true
   },
   "source": [
    "Three things must be noticed:\n",
    "\n",
    "1. it uses a configuration directory (`--config-dir`): this is provided by parserconf module; most command will provide this option. This is where common variables used by multiple commands can be factorized. More on that soon.\n",
    "2. It provides a `--variable` option. This is just an example. We will see how its content depends on the configuration file.\n",
    "3. It also provides logging configuration `--help-logs`. More on that later."
   ]
  },
  {
   "cell_type": "markdown",
   "metadata": {},
   "source": [
    "Executing this program, gives:"
   ]
  },
  {
   "cell_type": "code",
   "execution_count": 14,
   "metadata": {
    "collapsed": false
   },
   "outputs": [
    {
     "name": "stdout",
     "output_type": "stream",
     "text": [
      "\u001b[0mValue of variable: Default_Value\u001b[0m\r\n",
      "\u001b[0mValue of stuff: Default_stuff\u001b[0m\r\n",
      "\u001b[0mThis process just starts, arguments: ['../../../packaged/doc/examples/bxilog-posless']\u001b[0m\r\n",
      "\u001b[0mStarting\u001b[0m\r\n",
      "\u001b[22m\u001b[38;2;255;0;0m[E] one.logg Something wrong happened?\u001b[0m\r\n",
      "\u001b[1m\u001b[38;2;255;0;150m[C] another. And here, something even worse!\u001b[0m\r\n",
      "\u001b[0mThis process ends normally\u001b[0m\r\n"
     ]
    }
   ],
   "source": [
    "!../../../packaged/doc/examples/bxilog-posless"
   ]
  },
  {
   "cell_type": "markdown",
   "metadata": {},
   "source": [
    "# Command Line Variables Configuration\n",
    "\n",
    "When the bxiparserconf is used, a configuration variable can be given its value according to the following increasing policy:\n",
    "\n",
    "1. a default value;\n",
    "1. a configuration file;\n",
    "2. an environment variable;\n",
    "3. from the command line.\n",
    "\n",
    "The default value is given in the code itself when nothing else has been found. However if a configuration file is found, the variable is taken from it. In our example, if we create a default configuration file:"
   ]
  },
  {
   "cell_type": "code",
   "execution_count": 15,
   "metadata": {
    "collapsed": false
   },
   "outputs": [
    {
     "name": "stdout",
     "output_type": "stream",
     "text": [
      "File /tmp/.private/vigneras/tmpLgHWXh/default.conf created\n"
     ]
    }
   ],
   "source": [
    "import os\n",
    "import tempfile\n",
    "\n",
    "DIR=tempfile.mkdtemp()\n",
    "\n",
    "fileconf = os.path.join(DIR, 'default.conf')\n",
    "\n",
    "with open(fileconf, 'w') as f:\n",
    "    f.write(\"\"\"\n",
    "[My Section]\n",
    "    variable = 'foo'\n",
    "\"\"\")\n",
    "\n",
    "print(\"File %s created\" % fileconf)"
   ]
  },
  {
   "cell_type": "code",
   "execution_count": 16,
   "metadata": {
    "collapsed": false
   },
   "outputs": [
    {
     "name": "stdout",
     "output_type": "stream",
     "text": [
      "usage: bxilog-posless [-h] [--config-dir DIR] [-C FILE] [--help-logs] [--loglevels] [--output-default-logcfg]\r\n",
      "                      [--logcfgfile logcfgfile] [-l log-console-filters] [--log-file-filters log-file-filters]\r\n",
      "                      [--log-file-path PATH] [--help-full] [--variable VARIABLE] [--stuff STUFF]\r\n",
      "\r\n",
      "BXI Log Posless Example\r\n",
      "\r\n",
      "optional arguments:\r\n",
      "  -h, --help           show this help message and exit\r\n",
      "  --help-logs          show detailed logging options and exit\r\n",
      "  --help-full          show all options and exit\r\n",
      "  --variable VARIABLE  Do something with variable. Current: foo.\r\n",
      "  --stuff STUFF        Do something with stuff. Current: Default_stuff.\r\n",
      "\r\n",
      "File Based Configuration:\r\n",
      "  --config-dir DIR     The directory where the configuration file must be looked for. Value: /tmp/.private/vigneras/tmpLgHWXh.\r\n",
      "                       Environment variable: BXICONFIGDIR\r\n"
     ]
    }
   ],
   "source": [
    "!../../../packaged/doc/examples/bxilog-posless --config-dir {DIR} --help"
   ]
  },
  {
   "cell_type": "markdown",
   "metadata": {},
   "source": [
    "Since the `default.conf` configuration file has been found, the value defined for `variable` is used and shown in the help. However, this value can be overridden by a new configuration file. Since the domain of the `bxilog-posless` command is specified (in the code) to be `bar`, the following configuration file will be used instead:"
   ]
  },
  {
   "cell_type": "code",
   "execution_count": 17,
   "metadata": {
    "collapsed": false
   },
   "outputs": [
    {
     "name": "stdout",
     "output_type": "stream",
     "text": [
      "File /tmp/.private/vigneras/tmpLgHWXh/bar.conf created\n",
      "usage: bxilog-posless [-h] [--config-dir DIR] [-C FILE] [--help-logs] [--loglevels] [--output-default-logcfg]\n",
      "                      [--logcfgfile logcfgfile] [-l log-console-filters] [--log-file-filters log-file-filters]\n",
      "                      [--log-file-path PATH] [--help-full] [--variable VARIABLE] [--stuff STUFF]\n",
      "\n",
      "BXI Log Posless Example\n",
      "\n",
      "optional arguments:\n",
      "  -h, --help           show this help message and exit\n",
      "  --help-logs          show detailed logging options and exit\n",
      "  --help-full          show all options and exit\n",
      "  --variable VARIABLE  Do something with variable. Current: bar.\n",
      "  --stuff STUFF        Do something with stuff. Current: Default_stuff.\n",
      "\n",
      "File Based Configuration:\n",
      "  --config-dir DIR     The directory where the configuration file must be looked for. Value: /tmp/.private/vigneras/tmpLgHWXh.\n",
      "                       Environment variable: BXICONFIGDIR\n"
     ]
    }
   ],
   "source": [
    "fileconf = os.path.join(DIR, 'bar.conf')\n",
    "\n",
    "with open(fileconf, 'w') as f:\n",
    "    f.write(\"\"\"\n",
    "[My Section]\n",
    "    variable = 'bar'\n",
    "\"\"\")\n",
    "\n",
    "print(\"File %s created\" % fileconf)\n",
    "    \n",
    "!../../../packaged/doc/examples/bxilog-posless --config-dir {DIR} --help"
   ]
  },
  {
   "cell_type": "markdown",
   "metadata": {},
   "source": [
    "Finally, one step further is to create a configuration with named `bxilog-posless.conf` with a specific configuration that overrides previous ones:"
   ]
  },
  {
   "cell_type": "code",
   "execution_count": 18,
   "metadata": {
    "collapsed": false
   },
   "outputs": [
    {
     "name": "stdout",
     "output_type": "stream",
     "text": [
      "File /tmp/.private/vigneras/tmpLgHWXh/bxilog-posless.conf created\n",
      "usage: bxilog-posless [-h] [--config-dir DIR] [-C FILE] [--help-logs] [--loglevels] [--output-default-logcfg]\n",
      "                      [--logcfgfile logcfgfile] [-l log-console-filters] [--log-file-filters log-file-filters]\n",
      "                      [--log-file-path PATH] [--help-full] [--variable VARIABLE] [--stuff STUFF]\n",
      "\n",
      "BXI Log Posless Example\n",
      "\n",
      "optional arguments:\n",
      "  -h, --help           show this help message and exit\n",
      "  --help-logs          show detailed logging options and exit\n",
      "  --help-full          show all options and exit\n",
      "  --variable VARIABLE  Do something with variable. Current: baz.\n",
      "  --stuff STUFF        Do something with stuff. Current: Default_stuff.\n",
      "\n",
      "File Based Configuration:\n",
      "  --config-dir DIR     The directory where the configuration file must be looked for. Value: /tmp/.private/vigneras/tmpLgHWXh.\n",
      "                       Environment variable: BXICONFIGDIR\n"
     ]
    }
   ],
   "source": [
    "fileconf = os.path.join(DIR, 'bxilog-posless.conf')\n",
    "\n",
    "with open(fileconf, 'w') as f:\n",
    "    f.write(\"\"\"\n",
    "[My Section]\n",
    "    variable = 'baz'\n",
    "\"\"\")\n",
    "\n",
    "print(\"File %s created\" % fileconf)\n",
    "    \n",
    "!../../../packaged/doc/examples/bxilog-posless --config-dir {DIR} --help"
   ]
  },
  {
   "cell_type": "markdown",
   "metadata": {},
   "source": [
    "As we have seen, a specific configuration directory can be specified. A specific configuration file can also be specified. In this case, it is used directly:"
   ]
  },
  {
   "cell_type": "code",
   "execution_count": 19,
   "metadata": {
    "collapsed": false
   },
   "outputs": [
    {
     "name": "stdout",
     "output_type": "stream",
     "text": [
      "File /tmp/.private/vigneras/tmpLgHWXh/specific.conf created\n",
      "usage: bxilog-posless [-h] [--config-dir DIR] [-C FILE] [--help-logs] [--loglevels] [--output-default-logcfg]\n",
      "                      [--logcfgfile logcfgfile] [-l log-console-filters] [--log-file-filters log-file-filters]\n",
      "                      [--log-file-path PATH] [--help-full] [--variable VARIABLE] [--stuff STUFF]\n",
      "\n",
      "BXI Log Posless Example\n",
      "\n",
      "optional arguments:\n",
      "  -h, --help           show this help message and exit\n",
      "  --help-logs          show detailed logging options and exit\n",
      "  --help-full          show all options and exit\n",
      "  --variable VARIABLE  Do something with variable. Current: spec.\n",
      "  --stuff STUFF        Do something with stuff. Current: Default_stuff.\n",
      "\n",
      "File Based Configuration:\n",
      "  --config-dir DIR     The directory where the configuration file must be looked for. Value: None. Environment variable:\n",
      "                       BXICONFIGDIR\n"
     ]
    }
   ],
   "source": [
    "fileconf = os.path.join(DIR, 'specific.conf')\n",
    "\n",
    "with open(fileconf, 'w') as f:\n",
    "    f.write(\"\"\"\n",
    "[My Section]\n",
    "    variable = 'spec'\n",
    "\"\"\")\n",
    "\n",
    "print(\"File %s created\" % fileconf)\n",
    "    \n",
    "!../../../packaged/doc/examples/bxilog-posless --config-file {fileconf} --help"
   ]
  },
  {
   "cell_type": "markdown",
   "metadata": {},
   "source": [
    "Of course the environment variable is more specific that configuration files:"
   ]
  },
  {
   "cell_type": "code",
   "execution_count": 20,
   "metadata": {
    "collapsed": false
   },
   "outputs": [
    {
     "name": "stdout",
     "output_type": "stream",
     "text": [
      "env: VAR='env'\n",
      "usage: bxilog-posless [-h] [--config-dir DIR] [-C FILE] [--help-logs] [--loglevels] [--output-default-logcfg]\n",
      "                      [--logcfgfile logcfgfile] [-l log-console-filters] [--log-file-filters log-file-filters]\n",
      "                      [--log-file-path PATH] [--help-full] [--variable VARIABLE] [--stuff STUFF]\n",
      "\n",
      "BXI Log Posless Example\n",
      "\n",
      "optional arguments:\n",
      "  -h, --help           show this help message and exit\n",
      "  --help-logs          show detailed logging options and exit\n",
      "  --help-full          show all options and exit\n",
      "  --variable VARIABLE  Do something with variable. Current: 'env'.\n",
      "  --stuff STUFF        Do something with stuff. Current: Default_stuff.\n",
      "\n",
      "File Based Configuration:\n",
      "  --config-dir DIR     The directory where the configuration file must be looked for. Value: /tmp/.private/vigneras/tmpLgHWXh.\n",
      "                       Environment variable: BXICONFIGDIR\n"
     ]
    }
   ],
   "source": [
    "%env VAR='env'\n",
    "\n",
    "!../../../packaged/doc/examples/bxilog-posless --config-dir {DIR} --help"
   ]
  },
  {
   "cell_type": "markdown",
   "metadata": {},
   "source": [
    "And finally, the command line is even more specific:"
   ]
  },
  {
   "cell_type": "code",
   "execution_count": 21,
   "metadata": {
    "collapsed": false
   },
   "outputs": [
    {
     "name": "stdout",
     "output_type": "stream",
     "text": [
      "usage: bxilog-posless [-h] [--config-dir DIR] [-C FILE] [--help-logs] [--loglevels] [--output-default-logcfg]\r\n",
      "                      [--logcfgfile logcfgfile] [-l log-console-filters] [--log-file-filters log-file-filters]\r\n",
      "                      [--log-file-path PATH] [--help-full] [--variable VARIABLE] [--stuff STUFF]\r\n",
      "\r\n",
      "BXI Log Posless Example\r\n",
      "\r\n",
      "optional arguments:\r\n",
      "  -h, --help           show this help message and exit\r\n",
      "  --help-logs          show detailed logging options and exit\r\n",
      "  --help-full          show all options and exit\r\n",
      "  --variable VARIABLE  Do something with variable. Current: abc.\r\n",
      "  --stuff STUFF        Do something with stuff. Current: Default_stuff.\r\n",
      "\r\n",
      "File Based Configuration:\r\n",
      "  --config-dir DIR     The directory where the configuration file must be looked for. Value: /tmp/.private/vigneras/tmpLgHWXh.\r\n",
      "                       Environment variable: BXICONFIGDIR\r\n"
     ]
    }
   ],
   "source": [
    "!../../../packaged/doc/examples/bxilog-posless --config-dir {DIR} --variable=abc --help"
   ]
  },
  {
   "cell_type": "markdown",
   "metadata": {},
   "source": [
    "# Configuration Files Inclusion\n",
    "\n",
    "The `bxi.base.parserconf` module implements configuration file inclusion: one file can include another. When file `F` includes file `I`, all variables defined in `I` are also defined in `F`, and their values are the one in `I` unless they are overridden by `F`. Consider the following example:"
   ]
  },
  {
   "cell_type": "code",
   "execution_count": 23,
   "metadata": {
    "collapsed": false
   },
   "outputs": [
    {
     "name": "stdout",
     "output_type": "stream",
     "text": [
      "File /tmp/.private/vigneras/tmpLgHWXh/I.conf created\n",
      "File /tmp/.private/vigneras/tmpLgHWXh/F.conf created\n",
      "usage: bxilog-posless [-h] [--config-dir DIR] [-C FILE] [--help-logs] [--loglevels] [--output-default-logcfg]\n",
      "                      [--logcfgfile logcfgfile] [-l log-console-filters] [--log-file-filters log-file-filters]\n",
      "                      [--log-file-path PATH] [--help-full] [--variable VARIABLE] [--stuff STUFF]\n",
      "\n",
      "BXI Log Posless Example\n",
      "\n",
      "optional arguments:\n",
      "  -h, --help           show this help message and exit\n",
      "  --help-logs          show detailed logging options and exit\n",
      "  --help-full          show all options and exit\n",
      "  --variable VARIABLE  Do something with variable. Current: 'env'.\n",
      "  --stuff STUFF        Do something with stuff. Current: defined_in_F.\n",
      "\n",
      "File Based Configuration:\n",
      "  --config-dir DIR     The directory where the configuration file must be looked for. Value: None. Environment variable:\n",
      "                       BXICONFIGDIR\n"
     ]
    }
   ],
   "source": [
    "fileconf = os.path.join(DIR, 'I.conf')\n",
    "\n",
    "with open(fileconf, 'w') as f:\n",
    "    f.write(\"\"\"\n",
    "[My Section]\n",
    "    variable = 'defined_in_I'\n",
    "    stuff = 'defined_in_I'\n",
    "\"\"\")\n",
    "\n",
    "print(\"File %s created\" % fileconf)\n",
    "\n",
    "fileconf = os.path.join(DIR, 'F.conf')\n",
    "\n",
    "with open(fileconf, 'w') as f:\n",
    "    f.write(\"\"\"\n",
    "includes = I.conf,\n",
    "[My Section]\n",
    "    stuff = 'defined_in_F'\n",
    "\"\"\")\n",
    "\n",
    "print(\"File %s created\" % fileconf)\n",
    "\n",
    "    \n",
    "!../../../packaged/doc/examples/bxilog-posless --config-file {fileconf} --help"
   ]
  },
  {
   "cell_type": "markdown",
   "metadata": {},
   "source": [
    "The current value of 'stuff' is 'defined_in_F' since it overwrites the included value from `I.conf`."
   ]
  },
  {
   "cell_type": "markdown",
   "metadata": {},
   "source": [
    "# Logging Configuration Files\n",
    "\n",
    "The `bxi.base.parserconf` module implements a special policy for logging configuration: it looks after a variable called `bxilog.default.configfile` and if found, use it as a path towards the logging configuration file. If not found however, a default logging configuration is used. This default logging configuration can be output on `stdout` using the option `--output-default-logcfg` as in the following example:"
   ]
  },
  {
   "cell_type": "code",
   "execution_count": 24,
   "metadata": {
    "collapsed": false
   },
   "outputs": [
    {
     "name": "stdout",
     "output_type": "stream",
     "text": [
      "setsighandler = True\r\n",
      "handlers = console, file\r\n",
      "[console]\r\n",
      "    colors = 216_dark\r\n",
      "    stderr_level = WARNING\r\n",
      "    filters = :output\r\n",
      "    module = bxi.base.log.console_handler\r\n",
      "[file]\r\n",
      "    path = /tmp/.private/vigneras/%(prog)s.bxilog\r\n",
      "    append = True\r\n",
      "    filters = auto\r\n",
      "    module = bxi.base.log.file_handler\r\n"
     ]
    }
   ],
   "source": [
    "!../../../packaged/doc/examples/bxilog-posless --output-default-logcfg"
   ]
  },
  {
   "cell_type": "markdown",
   "metadata": {},
   "source": [
    "As you see, by default, two log handlers are defined:\n",
    "\n",
    "- console handler: output on the standard output and standard error;\n",
    "- file handler: output to a file.\n",
    "\n",
    "Let's save this content to a file in our temporary directory:"
   ]
  },
  {
   "cell_type": "code",
   "execution_count": 26,
   "metadata": {
    "collapsed": false
   },
   "outputs": [],
   "source": [
    "!../../../packaged/doc/examples/bxilog-posless --output-default-logcfg > {DIR}/default.bxilog.conf"
   ]
  },
  {
   "cell_type": "markdown",
   "metadata": {},
   "source": [
    "Let's then modify its content to lower the filtering:"
   ]
  },
  {
   "cell_type": "code",
   "execution_count": 27,
   "metadata": {
    "collapsed": false
   },
   "outputs": [
    {
     "name": "stdout",
     "output_type": "stream",
     "text": [
      "setsighandler = True\r\n",
      "handlers = console, file\r\n",
      "[console]\r\n",
      "    colors = 216_dark\r\n",
      "    stderr_level = WARNING\r\n",
      "    filters = :debug\r\n",
      "    module = bxi.base.log.console_handler\r\n",
      "[file]\r\n",
      "    path = /tmp/.private/vigneras/%(prog)s.bxilog\r\n",
      "    append = True\r\n",
      "    filters = auto\r\n",
      "    module = bxi.base.log.file_handler\r\n"
     ]
    }
   ],
   "source": [
    "!sed -i \"s/:output/:debug/\" {DIR}/default.bxilog.conf\n",
    "!cat {DIR}/default.bxilog.conf"
   ]
  },
  {
   "cell_type": "markdown",
   "metadata": {},
   "source": [
    "Let's modify the configuration file `I.conf` so it references this logging configuration file:"
   ]
  },
  {
   "cell_type": "code",
   "execution_count": 30,
   "metadata": {
    "collapsed": false
   },
   "outputs": [
    {
     "name": "stdout",
     "output_type": "stream",
     "text": [
      "\r\n",
      "[My Section]\r\n",
      "    variable = 'defined_in_I'\r\n",
      "    stuff = 'defined_in_I'\r\n",
      "bxilog.default.configfile = default.bxilog.conf\r\n",
      "[Defaults]\r\n",
      "\tbxilog.default.configfile = default.bxilog.conf\r\n"
     ]
    }
   ],
   "source": [
    "!echo -e '[Defaults]\\n\\tbxilog.default.configfile = default.bxilog.conf' >> {DIR}/I.conf\n",
    "!cat {DIR}/I.conf"
   ]
  },
  {
   "cell_type": "code",
   "execution_count": 31,
   "metadata": {
    "collapsed": false
   },
   "outputs": [
    {
     "name": "stdout",
     "output_type": "stream",
     "text": [
      "\u001b[2m\u001b[38;5;83m[D] ~bxilog  Initialization done\u001b[0m\r\n",
      "\u001b[2m\u001b[38;5;83m[D] ~bxilog. Setting signal handler process wide\u001b[0m\r\n",
      "\u001b[2m\u001b[38;5;83m[D] ~bxilog. Signal handler set for 11: Segmentation fault\u001b[0m\r\n",
      "\u001b[2m\u001b[38;5;83m[D] ~bxilog. Signal handler set for 7: Bus error\u001b[0m\r\n",
      "\u001b[2m\u001b[38;5;83m[D] ~bxilog. Signal handler set for 8: Floating point exception\u001b[0m\r\n",
      "\u001b[2m\u001b[38;5;83m[D] ~bxilog. Signal handler set for 4: Illegal instruction\u001b[0m\r\n",
      "\u001b[2m\u001b[38;5;83m[D] ~bxilog. Signal handler set for 2: Interrupt\u001b[0m\r\n",
      "\u001b[2m\u001b[38;5;83m[D] ~bxilog. Signal handler set for 15: Terminated\u001b[0m\r\n",
      "\u001b[2m\u001b[38;5;46m[I] ~bxilog. Signal handlers set\u001b[0m\r\n",
      "\u001b[2m\u001b[38;5;83m[D] bxilog-p BXI logging configuration: {'setsighandler': 'True', 'handlers': ['console', 'file'], 'console': {'colors': '216_dark', 'stderr_level': 'WARNING', 'filters': ':debug', 'module': 'bxi.base.log.console_handler'}, 'file': {'path': '/tmp/.private/vigneras/bxilog-posless.bxilog', 'append': 'True', 'filters': 'auto', 'module': 'bxi.base.log.file_handler'}}\u001b[0m\r\n",
      "\u001b[2m\u001b[38;5;83m[D] config   Return defined_in_I for value variable in section ['My Section']\u001b[0m\r\n",
      "\u001b[2m\u001b[38;5;83m[D] config   Return defined_in_F for value stuff in section ['My Section']\u001b[0m\r\n",
      "\u001b[0mValue of variable: 'env'\u001b[0m\r\n",
      "\u001b[0mValue of stuff: defined_in_F\u001b[0m\r\n",
      "\u001b[0mThis process just starts, arguments: ['../../../packaged/doc/examples/bxilog-posless', '--config-file', '/tmp/.private/vigneras/tmpLgHWXh/F.conf']\u001b[0m\r\n",
      "\u001b[0mStarting\u001b[0m\r\n",
      "\u001b[2m\u001b[38;5;46m[I] one.logg Something\u001b[0m\r\n",
      "\u001b[2m\u001b[38;5;83m[D] another. Something else\u001b[0m\r\n",
      "\u001b[22m\u001b[38;5;196m[E] one.logg Something wrong happened?\u001b[0m\r\n",
      "\u001b[1m\u001b[38;5;198m[C] another. And here, something even worse!\u001b[0m\r\n",
      "\u001b[0mThis process ends normally\u001b[0m\r\n",
      "\u001b[2m\u001b[38;5;83m[D] ~bxilog  Exiting bxilog\u001b[0m\r\n"
     ]
    }
   ],
   "source": [
    "!../../../packaged/doc/examples/bxilog-posless --config-file {DIR}/F.conf"
   ]
  },
  {
   "cell_type": "markdown",
   "metadata": {},
   "source": [
    "The level of the console handler has changed according to the logging configuration file defined in file `I.conf` which is included by `F.conf`.\n",
    "\n",
    "# Advanced Usage\n",
    "\n",
    "Commands can be grouped by big domains in such a way that configuration variables can be factorized."
   ]
  }
 ],
 "metadata": {
  "kernelspec": {
   "display_name": "Python 2",
   "language": "python",
   "name": "python2"
  },
  "language_info": {
   "codemirror_mode": {
    "name": "ipython",
    "version": 2
   },
   "file_extension": ".py",
   "mimetype": "text/x-python",
   "name": "python",
   "nbconvert_exporter": "python",
   "pygments_lexer": "ipython2",
   "version": "2.7.10"
  }
 },
 "nbformat": 4,
 "nbformat_minor": 0
}
