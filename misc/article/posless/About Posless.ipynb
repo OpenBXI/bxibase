{
 "cells": [
  {
   "cell_type": "markdown",
   "metadata": {},
   "source": [
    "# Introduction to posless (bxibase > 6.x)\n",
    "\n",
    "Version 6.x of bxi.base.parserconf supports command-based configuration files. That is, a configuration file can be specific to a given command. When launching a new command say `bxi-foo`, a configuration file for that command is looked for. The location file depends on various parameters described below:\n",
    "\n",
    "0. If a file is specified with the option `--config-file`, it is directly used.\n",
    "1. Otherwise, if a specific directory is specified with option `--config-dir`, it is used to find configuration files according to the policy defined below. Else, if the user is root, files are searched in `/etc`, otherwise, they are searched in `~/.config/`. \n",
    "2. Unless a specific directory is specified with option `--config-dir`, the `config_dirname` passed to `parserconf.addargs()`, is appended to the path. It defaults to `bxi`. Therefore, files are searched in `/etc/bxi/` when launched as root, or `~/.config/bxi` when launched as a normal user by default.\n",
    "3. Then if a file named `bxi-foo.conf` is found, it is used for the configuration of that `bxi-foo` command.\n",
    "4. Otherwise, if a `domain_name` say `bar` has been given to the `parserconf.addargs()`, and if a file named `bar.conf` exists in that path, it is used for that `bxi-foo` command.\n",
    "5. Otherwise, if a file named `default.conf` is found, it is used for that `bxi-foo` command.\n",
    "\n",
    "The `bxibase` package provides the `bxilog-posless.py` command in the documentation examples directory.\n",
    "Its content is rather simple:"
   ]
  },
  {
   "cell_type": "code",
   "execution_count": 26,
   "metadata": {
    "collapsed": false
   },
   "outputs": [
    {
     "name": "stdout",
     "output_type": "stream",
     "text": [
      "#!/usr/bin/env python\n",
      "\n",
      "import sys\n",
      "import bxi.base.log as bxilog\n",
      "import bxi.base.posless as posless\n",
      "import bxi.base.parserconf as bxiparserconf\n",
      "\n",
      "if __name__ == '__main__':\n",
      "    parser = posless.ArgumentParser(description='BXI Log Posless Example',\n",
      "                                   formatter_class=bxiparserconf.FilteredHelpFormatter)\n",
      "\n",
      "    \n",
      "    default = bxiparserconf.getdefaultvalue(parser, 'My Section', 'variable', None,\n",
      "                                            'Default_Value')\n",
      "    parser.add_argument('-v', '--variable', default=default,\n",
      "                        envvar='VAR',\n",
      "                        help=\"Do something with variable. Current: %(default)s.\")\n",
      "    \n",
      "    bxiparserconf.addargs(parser)\n",
      "    args = parser.parse_args()\n",
      "    \n",
      "    bxilog.out(\"Value of variable: %s\", args.variable)\n",
      "        \n",
      "    one = bxilog.getLogger('one.logger')\n",
      "    other = bxilog.getLogger('another.logger')\n",
      "    history = bxilog.getLogger('history') \n",
      "    \n",
      "    # This log will go only to the history according to the configuration\n",
      "    history.out(\"This process just starts, arguments: %s\", sys.argv)\n",
      "\n",
      "    # All log below will be sent to all other handlers\n",
      "    bxilog.out(\"Starting\")\n",
      "    one.info(\"Something\")\n",
      "    other.debug(\"Something else\")\n",
      "    \n",
      "    one.error(\"Something wrong happened?\")\n",
      "    other.critical(\"And here, something even worse!\")\n",
      "    \n",
      "    history.out(\"This process ends normally\")"
     ]
    }
   ],
   "source": [
    "%%bash\n",
    "\n",
    "cat ../../../packaged/doc/examples/bxilog-posless.py "
   ]
  },
  {
   "cell_type": "markdown",
   "metadata": {},
   "source": [
    "First let's have a look at its usage:"
   ]
  },
  {
   "cell_type": "code",
   "execution_count": 18,
   "metadata": {
    "collapsed": false
   },
   "outputs": [
    {
     "name": "stdout",
     "output_type": "stream",
     "text": [
      "usage: bxilog-posless.py [-h] [-v VARIABLE] [--config-dir DIR] [-C FILE] [--help-logs] [--loglevels] [--output-default-logcfg]\n",
      "                         [--logcfgfile logcfgfile] [-l log-console-filters] [--log-file-filters log-file-filters]\n",
      "                         [--log-file-path PATH] [--help-full]\n",
      "\n",
      "BXI Log Posless Example\n",
      "\n",
      "optional arguments:\n",
      "  -h, --help            show this help message and exit\n",
      "  -v VARIABLE, --variable VARIABLE\n",
      "                        Do something with variable. Current: Default_Value.\n",
      "  --help-logs           show detailed logging options and exit\n",
      "  --help-full           show all options and exit\n",
      "\n",
      "File Based Configuration:\n",
      "  --config-dir DIR      The directory where the configuration file must be looked for. Value: /home/vigneras/.config/bxi.\n",
      "                        Environment variable: BXICONFIGDIR\n"
     ]
    }
   ],
   "source": [
    "%%bash \n",
    "\n",
    "../../../packaged/doc/examples/bxilog-posless.py --help"
   ]
  },
  {
   "cell_type": "markdown",
   "metadata": {
    "collapsed": true
   },
   "source": [
    "Three things must be noticed:\n",
    "\n",
    "1. it uses a configuration directory (`--config-dir`): this is provided by parserconf module; most command will provide this option. This is where common variables used by multiple commands can be factorized. More on that soon.\n",
    "2. It provides a `--variable` option. This is just an example. We will see how its content depends on the configuration file.\n",
    "3. It also provides logging configuration `--help-logs`. More on that later."
   ]
  },
  {
   "cell_type": "markdown",
   "metadata": {},
   "source": [
    "# Command Line Variables Configuration\n",
    "\n",
    "When the bxiparserconf is used, a configuration variable can be given its value according to the following increasing policy:\n",
    "\n",
    "1. a default value;\n",
    "1. a configuration file;\n",
    "2. an environment variable;\n",
    "3. from the command line.\n",
    "\n",
    "The default value is given in the code itself when nothing else has been found. However if a configuration file is found, the variable is taken from it. In our example, if we create a default configuration file:"
   ]
  },
  {
   "cell_type": "code",
   "execution_count": 71,
   "metadata": {
    "collapsed": false
   },
   "outputs": [
    {
     "name": "stdout",
     "output_type": "stream",
     "text": [
      "File /tmp/.private/vigneras/tmpxlk5k5/default.conf created\n",
      "usage: bxilog-posless [-h] [--config-dir DIR] [-C FILE] [--help-logs] [--loglevels] [--output-default-logcfg]\n",
      "                      [--logcfgfile logcfgfile] [-l log-console-filters] [--log-file-filters log-file-filters]\n",
      "                      [--log-file-path PATH] [--help-full] [-v VARIABLE]\n",
      "\n",
      "BXI Log Posless Example\n",
      "\n",
      "optional arguments:\n",
      "  -h, --help            show this help message and exit\n",
      "  --help-logs           show detailed logging options and exit\n",
      "  --help-full           show all options and exit\n",
      "  -v VARIABLE, --variable VARIABLE\n",
      "                        Do something with variable. Current: foo.\n",
      "\n",
      "File Based Configuration:\n",
      "  --config-dir DIR      The directory where the configuration file must be looked for. Value:\n",
      "                        /tmp/.private/vigneras/tmpxlk5k5. Environment variable: BXICONFIGDIR\n"
     ]
    }
   ],
   "source": [
    "import os\n",
    "import tempfile\n",
    "\n",
    "DIR=tempfile.mkdtemp()\n",
    "\n",
    "fileconf = os.path.join(DIR, 'default.conf')\n",
    "\n",
    "with open(fileconf, 'w') as f:\n",
    "    f.write(\"\"\"\n",
    "[My Section]\n",
    "    variable = 'foo'\n",
    "\"\"\")\n",
    "\n",
    "print(\"File %s created\" % fileconf)\n",
    "    \n",
    "!../../../packaged/doc/examples/bxilog-posless --config-dir {DIR} --help"
   ]
  },
  {
   "cell_type": "markdown",
   "metadata": {},
   "source": [
    "Since the `default.conf` configuration file has been found, the value defined for `variable` is used and shown in the help. However, this value can be overridden by a new configuration file. Since the domain of the `bxilog-posless` command is specified (in the code) to be `bar`, the following configuration file will be used instead:"
   ]
  },
  {
   "cell_type": "code",
   "execution_count": 73,
   "metadata": {
    "collapsed": false
   },
   "outputs": [
    {
     "name": "stdout",
     "output_type": "stream",
     "text": [
      "File /tmp/.private/vigneras/tmpxlk5k5/bar.conf created\n",
      "usage: bxilog-posless [-h] [--config-dir DIR] [-C FILE] [--help-logs] [--loglevels] [--output-default-logcfg]\n",
      "                      [--logcfgfile logcfgfile] [-l log-console-filters] [--log-file-filters log-file-filters]\n",
      "                      [--log-file-path PATH] [--help-full] [-v VARIABLE]\n",
      "\n",
      "BXI Log Posless Example\n",
      "\n",
      "optional arguments:\n",
      "  -h, --help            show this help message and exit\n",
      "  --help-logs           show detailed logging options and exit\n",
      "  --help-full           show all options and exit\n",
      "  -v VARIABLE, --variable VARIABLE\n",
      "                        Do something with variable. Current: bar.\n",
      "\n",
      "File Based Configuration:\n",
      "  --config-dir DIR      The directory where the configuration file must be looked for. Value:\n",
      "                        /tmp/.private/vigneras/tmpxlk5k5. Environment variable: BXICONFIGDIR\n"
     ]
    }
   ],
   "source": [
    "fileconf = os.path.join(DIR, 'bar.conf')\n",
    "\n",
    "with open(fileconf, 'w') as f:\n",
    "    f.write(\"\"\"\n",
    "[My Section]\n",
    "    variable = 'bar'\n",
    "\"\"\")\n",
    "\n",
    "print(\"File %s created\" % fileconf)\n",
    "    \n",
    "!../../../packaged/doc/examples/bxilog-posless --config-dir {DIR} --help"
   ]
  },
  {
   "cell_type": "markdown",
   "metadata": {},
   "source": [
    "Finally, one step further is to create a configuration with named `bxilog-posless.conf` with a specific configuration that overrides previous ones:"
   ]
  },
  {
   "cell_type": "code",
   "execution_count": null,
   "metadata": {
    "collapsed": true
   },
   "outputs": [],
   "source": [
    "fileconf = os.path.join(DIR, 'bxilog-posless.conf')\n",
    "\n",
    "with open(fileconf, 'w') as f:\n",
    "    f.write(\"\"\"\n",
    "[My Section]\n",
    "    variable = 'baz'\n",
    "\"\"\")\n",
    "\n",
    "print(\"File %s created\" % fileconf)\n",
    "    \n",
    "!../../../packaged/doc/examples/bxilog-posless --config-dir {DIR} --help"
   ]
  },
  {
   "cell_type": "markdown",
   "metadata": {},
   "source": [
    "As we have seen, a specific configuration directory can be specified. A specific configuration file can also be specified. In this case, it is used directly:"
   ]
  },
  {
   "cell_type": "code",
   "execution_count": 78,
   "metadata": {
    "collapsed": false
   },
   "outputs": [
    {
     "name": "stdout",
     "output_type": "stream",
     "text": [
      "File /tmp/.private/vigneras/tmpxlk5k5/specific.conf created\n",
      "usage: bxilog-posless [-h] [--config-dir DIR] [-C FILE] [--help-logs] [--loglevels] [--output-default-logcfg]\n",
      "                      [--logcfgfile logcfgfile] [-l log-console-filters] [--log-file-filters log-file-filters]\n",
      "                      [--log-file-path PATH] [--help-full] [-v VARIABLE]\n",
      "\n",
      "BXI Log Posless Example\n",
      "\n",
      "optional arguments:\n",
      "  -h, --help            show this help message and exit\n",
      "  --help-logs           show detailed logging options and exit\n",
      "  --help-full           show all options and exit\n",
      "  -v VARIABLE, --variable VARIABLE\n",
      "                        Do something with variable. Current: 'xyz'.\n",
      "\n",
      "File Based Configuration:\n",
      "  --config-dir DIR      The directory where the configuration file must be looked for. Value: /home/vigneras/.config/bxi.\n",
      "                        Environment variable: BXICONFIGDIR\n"
     ]
    }
   ],
   "source": [
    "fileconf = os.path.join(DIR, 'specific.conf')\n",
    "\n",
    "with open(fileconf, 'w') as f:\n",
    "    f.write(\"\"\"\n",
    "[My Section]\n",
    "    variable = '123'\n",
    "\"\"\")\n",
    "\n",
    "print(\"File %s created\" % fileconf)\n",
    "    \n",
    "!../../../packaged/doc/examples/bxilog-posless --config-file {fileconf} --help"
   ]
  },
  {
   "cell_type": "markdown",
   "metadata": {},
   "source": [
    "Of course the environment variable is more specific that configuration files:"
   ]
  },
  {
   "cell_type": "code",
   "execution_count": 75,
   "metadata": {
    "collapsed": false
   },
   "outputs": [
    {
     "name": "stdout",
     "output_type": "stream",
     "text": [
      "env: VAR='xyz'\n",
      "usage: bxilog-posless [-h] [--config-dir DIR] [-C FILE] [--help-logs] [--loglevels] [--output-default-logcfg]\n",
      "                      [--logcfgfile logcfgfile] [-l log-console-filters] [--log-file-filters log-file-filters]\n",
      "                      [--log-file-path PATH] [--help-full] [-v VARIABLE]\n",
      "\n",
      "BXI Log Posless Example\n",
      "\n",
      "optional arguments:\n",
      "  -h, --help            show this help message and exit\n",
      "  --help-logs           show detailed logging options and exit\n",
      "  --help-full           show all options and exit\n",
      "  -v VARIABLE, --variable VARIABLE\n",
      "                        Do something with variable. Current: 'xyz'.\n",
      "\n",
      "File Based Configuration:\n",
      "  --config-dir DIR      The directory where the configuration file must be looked for. Value:\n",
      "                        /tmp/.private/vigneras/tmpxlk5k5. Environment variable: BXICONFIGDIR\n"
     ]
    }
   ],
   "source": [
    "%env VAR='xyz'\n",
    "\n",
    "!../../../packaged/doc/examples/bxilog-posless --config-dir {DIR} --help"
   ]
  },
  {
   "cell_type": "markdown",
   "metadata": {},
   "source": [
    "And finally, the command line is even more specific:"
   ]
  },
  {
   "cell_type": "code",
   "execution_count": 76,
   "metadata": {
    "collapsed": false
   },
   "outputs": [
    {
     "name": "stdout",
     "output_type": "stream",
     "text": [
      "usage: bxilog-posless [-h] [--config-dir DIR] [-C FILE] [--help-logs] [--loglevels] [--output-default-logcfg]\r\n",
      "                      [--logcfgfile logcfgfile] [-l log-console-filters] [--log-file-filters log-file-filters]\r\n",
      "                      [--log-file-path PATH] [--help-full] [-v VARIABLE]\r\n",
      "\r\n",
      "BXI Log Posless Example\r\n",
      "\r\n",
      "optional arguments:\r\n",
      "  -h, --help            show this help message and exit\r\n",
      "  --help-logs           show detailed logging options and exit\r\n",
      "  --help-full           show all options and exit\r\n",
      "  -v VARIABLE, --variable VARIABLE\r\n",
      "                        Do something with variable. Current: abc.\r\n",
      "\r\n",
      "File Based Configuration:\r\n",
      "  --config-dir DIR      The directory where the configuration file must be looked for. Value:\r\n",
      "                        /tmp/.private/vigneras/tmpxlk5k5. Environment variable: BXICONFIGDIR\r\n"
     ]
    }
   ],
   "source": [
    "!../../../packaged/doc/examples/bxilog-posless --config-dir {DIR} --variable=abc --help"
   ]
  },
  {
   "cell_type": "markdown",
   "metadata": {},
   "source": [
    "# Configuration Files Inclusion\n",
    "\n",
    "The `bxi.base.parserconf` module implements configuration file inclusion: one file can include another. When file `F` includes file `I`, all variables defined in `I` are also defined in `F`, and their values are the one in `I` unless they are overridden by `F`. Consider the following example:"
   ]
  },
  {
   "cell_type": "code",
   "execution_count": 91,
   "metadata": {
    "collapsed": false
   },
   "outputs": [
    {
     "name": "stdout",
     "output_type": "stream",
     "text": [
      "env: -d=VAR\n",
      "File /tmp/.private/vigneras/tmpxlk5k5/I.conf created\n",
      "File /tmp/.private/vigneras/tmpxlk5k5/F.conf created\n",
      "usage: bxilog-posless [-h] [--config-dir DIR] [-C FILE] [--help-logs] [--loglevels] [--output-default-logcfg]\n",
      "                      [--logcfgfile logcfgfile] [-l log-console-filters] [--log-file-filters log-file-filters]\n",
      "                      [--log-file-path PATH] [--help-full] [-v VARIABLE] [-stuff STUFF]\n",
      "\n",
      "BXI Log Posless Example\n",
      "\n",
      "optional arguments:\n",
      "  -h, --help            show this help message and exit\n",
      "  --help-logs           show detailed logging options and exit\n",
      "  --help-full           show all options and exit\n",
      "  -v VARIABLE, --variable VARIABLE\n",
      "                        Do something with variable. Current: 'xyz'.\n",
      "  -stuff STUFF, --stuff STUFF\n",
      "                        Do something with stuff. Current: defined_in_I.\n",
      "\n",
      "File Based Configuration:\n",
      "  --config-dir DIR      The directory where the configuration file must be looked for. Value: /home/vigneras/.config/bxi.\n",
      "                        Environment variable: BXICONFIGDIR\n"
     ]
    }
   ],
   "source": [
    "fileconf = os.path.join(DIR, 'I.conf')\n",
    "\n",
    "with open(fileconf, 'w') as f:\n",
    "    f.write(\"\"\"\n",
    "[My Section]\n",
    "    variable = 'defined_in_I'\n",
    "    stuff = 'defined_in_I'\n",
    "\"\"\")\n",
    "\n",
    "print(\"File %s created\" % fileconf)\n",
    "\n",
    "fileconf = os.path.join(DIR, 'F.conf')\n",
    "\n",
    "with open(fileconf, 'w') as f:\n",
    "    f.write(\"\"\"\n",
    "includes = I.conf,\n",
    "[My Section]\n",
    "    variable = 'defined_in_F'\n",
    "\"\"\")\n",
    "\n",
    "print(\"File %s created\" % fileconf)\n",
    "\n",
    "    \n",
    "!../../../packaged/doc/examples/bxilog-posless --config-file {fileconf} --help"
   ]
  },
  {
   "cell_type": "markdown",
   "metadata": {},
   "source": [
    "# Logging Configuration Files\n",
    "\n",
    "The `bxi.base.parserconf` module implements a special policy for logging configuration: it looks after a variable called `bxilog.default.configfile` and if found, use it as a path towards the logging configuration file."
   ]
  }
 ],
 "metadata": {
  "kernelspec": {
   "display_name": "Python 2",
   "language": "python",
   "name": "python2"
  },
  "language_info": {
   "codemirror_mode": {
    "name": "ipython",
    "version": 2
   },
   "file_extension": ".py",
   "mimetype": "text/x-python",
   "name": "python",
   "nbconvert_exporter": "python",
   "pygments_lexer": "ipython2",
   "version": "2.7.10"
  }
 },
 "nbformat": 4,
 "nbformat_minor": 0
}
