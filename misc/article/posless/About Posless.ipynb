{
 "cells": [
  {
   "cell_type": "markdown",
   "metadata": {},
   "source": [
    "# About posless (bxibase > 6.x)\n",
    "\n",
    "Version 6.x of bxi.base.parserconf supports command-based configuration files. That is, a configuration file can be specific to a given command. When launching a new command say `bxi-foo`, a configuration file for that command is looked after. The location file depends on various parameters described below:\n",
    "\n",
    "1. If the user is root, files are searched in `/etc` otherwise, they are searched in `~/.config/`. In the rest of this documentation, we will consider the user case.\n",
    "2. The `config_dirname` passed to `parserconf.addargs()`, is appended to the path. It default to `bxi`. Therefore, files are searched in `/etc/bxi/` when launched as root, or `~/.config/bxi` when launched as a normal user.\n",
    "3. In that path, if a file named `bxi-foo.conf` is found, it is used for the configuration of that `bxi-foo` command.\n",
    "4. Otherwise, if a `domain_name` say `bar` has been given to the `parserconf.addargs()`, and if a file named `bar.conf` exists in that path, it is used for that `bxi-foo` command.\n",
    "5. Otherwise, if a file named `default.conf` is found, it is used for that `bxi-foo` command.\n",
    "\n",
    "The `bxibase` package provides the `bxilog-producer` commands that produces logs at various logging level. Its usage is the following:"
   ]
  },
  {
   "cell_type": "code",
   "execution_count": 4,
   "metadata": {
    "collapsed": false
   },
   "outputs": [
    {
     "name": "stdout",
     "output_type": "stream",
     "text": [
      "usage: bxilog-producer [-h] [--config-dir DIR] [-C FILE] [--help-logs] [--loglevels] [--output-default-logcfg]\n",
      "                       [--logcfgfile logcfgfile] [-l log-console-filters] [--log-file-filters log-file-filters]\n",
      "                       [--log-file-path PATH] [--help-full] [--time TIME] [--max-delay-s MAX_DELAY_S]\n",
      "\n",
      "BXI Log Producer\n",
      "\n",
      "optional arguments:\n",
      "  -h, --help            show this help message and exit\n",
      "  --help-logs           show detailed logging options and exit\n",
      "  --help-full           show all options and exit\n",
      "  --time TIME           How many time should we produce logs in seconds ('inf' means infinity). Default: inf\n",
      "  --max-delay-s MAX_DELAY_S\n",
      "                        How many time should we wait maximum between two logs. Default: 0\n",
      "\n",
      "File Based Configuration:\n",
      "  --config-dir DIR      The directory where the configuration file must be looked for. Value: /home/vigneras/.config/bxi.\n",
      "                        Environment variable: BXICONFIGDIR\n",
      "  -C FILE, --config-file FILE\n",
      "                        The configuration file to use. Value: /home/vigneras/.config/bxi/log.conf. Environment variable:\n",
      "                        BXICONFIGFILE\n",
      "\n",
      "BXI Log options:\n",
      "  --loglevels           displays all log levels and exit.\n",
      "  --output-default-logcfg\n",
      "                        Output the default logging configuration and exit.\n",
      "  --logcfgfile logcfgfile\n",
      "                        Logging configuration file. Use '--output-default-logcfg' to customize one to your own needs. Value:\n",
      "                        None.\n",
      "  -l log-console-filters, --log-console-filters log-console-filters\n",
      "                        define the logging filters for the console handler Value: ':output'. Logging filters are defined by\n",
      "                        the following format: logger_name_prefix:level[,prefix:level]*\n",
      "  --log-file-filters log-file-filters\n",
      "                        define the logging filters for the file handler of the default logging configuration. If set to\n",
      "                        'auto', filters are automatically computed to provide two levels more details than handler 'console'\n",
      "                        and at least error levels and above. The format is the one defined by console_filters option. Value:\n",
      "                        '/tmp/.private/vigneras/bxilog-producer/.bxilog'.\n",
      "  --log-file-path PATH  define the destination file for the file handler Value: None\n"
     ]
    }
   ],
   "source": [
    "%%bash \n",
    "\n"
   ]
  },
  {
   "cell_type": "code",
   "execution_count": null,
   "metadata": {
    "collapsed": true
   },
   "outputs": [],
   "source": []
  }
 ],
 "metadata": {
  "kernelspec": {
   "display_name": "Python 2",
   "language": "python",
   "name": "python2"
  },
  "language_info": {
   "codemirror_mode": {
    "name": "ipython",
    "version": 2
   },
   "file_extension": ".py",
   "mimetype": "text/x-python",
   "name": "python",
   "nbconvert_exporter": "python",
   "pygments_lexer": "ipython2",
   "version": "2.7.10"
  }
 },
 "nbformat": 4,
 "nbformat_minor": 0
}
