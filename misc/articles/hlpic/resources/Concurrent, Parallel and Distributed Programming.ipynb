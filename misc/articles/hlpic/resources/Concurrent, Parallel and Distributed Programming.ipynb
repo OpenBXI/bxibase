{
 "cells": [
  {
   "cell_type": "markdown",
   "metadata": {
    "deletable": true,
    "editable": true
   },
   "source": [
    "# Concurrent, Parallel and/or Distributed Programming using  ZeroMQ\n",
    "\n",
    "Concurrent (and of course parallel and distributed) programming is hard. Much harder than sequential programming. The main reason holds in the non-determinism concurrent programming introduces. Many solutions have been proposed in the past (see the introduction of [Concurrent Object Oriented Programming with Asynchronous References](https://www.researchgate.net/publication/228905458_Concurrent_object_oriented_programming_with_Asynchronous_References) for a good overview). However none of them are currently used by the vast majority of developpers: most of them still rely on threads and lock --- probably the weakest solution. Nevertheless, a trend is ongoing: we share the same opinion expressed in [Multithreading Magic]( http://zeromq.org/blog:multithreading-magic): message passing is the way to go. Actually, message passing is massively used in parallel programming (MPI), and is also the basic abstraction of inherently concurrent languages such as [E](http://www.skyhunter.com/marcs/ewalnut.html#SEC18), [Go](https://golang.org/ref/spec#Channel_types) or [Erlang](http://erlang.org/doc/getting_started/conc_prog.html). Basically, sharing a mutable state between multiple execution flows (threads or processes) is very hard to do in a safe and efficient way. We won't go into details here as this is a very deep subject. But, we promote the use of the [zeromq](http://zeromq.org/) library for all IPC in high level programming. It has several advantages:\n",
    "\n",
    "* applications written with zeromq can scale easily from multi-threading with the `inproc` protocol to   \n",
    "  local multi-processes with the `ipc` protocol, up to distributed multi-nodes using `tcp` protocol;\n",
    "* zeromq proposes many communication patterns (REP/REQ, PUB/SUB, PUSH/PULL, ...) that ease the design of \n",
    "  a concurrent or distributed application;\n",
    "* zeromq is asynchronous and fast --- even for the `inproc` protocol (inter-thread communication);\n",
    "* zeromq has various other [features](http://zeromq.org/docs:features).\n",
    "  \n",
    "Therefore, we propose the `bxizmq` module: a tiny wrapper on top of the zeromq library that exposes error with the `bxierr` module."
   ]
  }
 ],
 "metadata": {
  "kernelspec": {
   "display_name": "C",
   "language": "c",
   "name": "c_spec"
  },
  "language_info": {
   "file_extension": "c",
   "mimetype": "text/plain",
   "name": "c"
  }
 },
 "nbformat": 4,
 "nbformat_minor": 0
}
