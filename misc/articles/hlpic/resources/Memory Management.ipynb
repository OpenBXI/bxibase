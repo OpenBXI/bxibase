{
 "cells": [
  {
   "cell_type": "markdown",
   "metadata": {
    "deletable": true,
    "editable": true
   },
   "source": [
    "# Memory Management\n",
    "\n",
    "C language supports low-level access to computer memory. This is often seen by experts as a strength. However it is also probably one of the main reasons why bugs, memory leaks and security holes do exist. For allocation, functions ``malloc()``, ``calloc()`` and ``realloc()`` are used. Except ``calloc()``, those functions do not initialize the memory. This might look strange to users of Java, Python, or other similar languages that always initialize their memory. We believe this should be the default behaviour most of the time unless the profiling of the application shows otherwise. POSIX also provides ``free()``, for releasing the previously allocated memory. However this function does not nullify the pointer value given in argument. This often leads to a problem when the given pointer is given twice (by error) to ``free()``. Most of the time, keeping the previous value of the released memory is error prone.\n",
    "\n",
    "Below a program that illustrates all problems mentionned above with the POSIX API."
   ]
  },
  {
   "cell_type": "code",
   "execution_count": 10,
   "metadata": {
    "collapsed": false,
    "deletable": true,
    "editable": true
   },
   "outputs": [
    {
     "name": "stderr",
     "output_type": "stream",
     "text": []
    },
    {
     "name": "stdout",
     "output_type": "stream",
     "text": [
      "\n",
      "Memory content after malloc #1 (not guaranteed to be zeroed)\n",
      "ffffffd8ffffff97ffffff920cffffffa07f0000ffffffd8ffffff97\n",
      "Value of ptr after a free() (not guaranteed to be NULL): 0x602220\n",
      "Memory content after malloc #2 (not guaranteed to be zeroed)\n",
      "00000000000000000000\n",
      "\n",
      "Memory content after realloc (the new memory area is not guaranteed to be zeroed)\n",
      "0000000000000000000000000000000000000000\n"
     ]
    }
   ],
   "source": [
    "#include <stdlib.h>\n",
    "#include <stdio.h>\n",
    "#include <string.h>\n",
    "\n",
    "int main(void) {\n",
    "    size_t n = 10;\n",
    "    char *ptr = malloc(n*sizeof(*ptr));\n",
    "    printf(\"\\nMemory content after malloc #1 (not guaranteed to be zeroed)\\n\");\n",
    "    for (size_t i = 0; i < n; i++) printf(\"%02x\", ptr[i]);\n",
    "    memset(ptr, 'A', n*sizeof(*ptr));\n",
    "    free(ptr);\n",
    "    printf(\"\\nValue of ptr after a free() (not guaranteed to be NULL): %p\", ptr);\n",
    "    \n",
    "    ptr = malloc(n*sizeof(*ptr));\n",
    "    printf(\"\\nMemory content after malloc #2 (not guaranteed to be zeroed)\\n\");\n",
    "    for (size_t i = 0; i < n; i++) printf(\"%02x\", ptr[i]);\n",
    "    printf(\"\\n\");\n",
    "    \n",
    "    n *= 2;\n",
    "    ptr = realloc(ptr, n*sizeof(*ptr));\n",
    "    printf(\"\\nMemory content after realloc (the new memory area is not guaranteed to be zeroed)\\n\");\n",
    "    for (size_t i = 0; i < n; i++) printf(\"%02x\", ptr[i]);\n",
    "    printf(\"\\n\");\n",
    "    \n",
    "    free(ptr);\n",
    "    // free(ptr); // This will produce a big error \n",
    "}"
   ]
  },
  {
   "cell_type": "markdown",
   "metadata": {
    "deletable": true,
    "editable": true
   },
   "source": [
    "We propose the [`bximem`](http://doc.bxi.hl/bxibase/bxi/base/mem.h) module that mainly provides functions more targetted to high level programming. It solve all problems above as shown by the example below:"
   ]
  },
  {
   "cell_type": "code",
   "execution_count": 11,
   "metadata": {
    "collapsed": false,
    "deletable": true,
    "editable": true
   },
   "outputs": [
    {
     "name": "stderr",
     "output_type": "stream",
     "text": []
    },
    {
     "name": "stdout",
     "output_type": "stream",
     "text": [
      "\n",
      "Memory content after bximem_calloc #1 (guaranteed to be zeroed)\n",
      "00000000000000000000\n",
      "Value of ptr after a BXIFREE() (guaranteed to be NULL): (nil)\n",
      "Memory content after malloc #2 (guaranteed to be zeroed)\n",
      "00000000000000000000\n",
      "\n",
      "Memory content after realloc (the new memory area is not guaranteed to be zeroed)\n",
      "0000000000000000000000000000000000000000\n"
     ]
    }
   ],
   "source": [
    "#include <stdlib.h>\n",
    "#include <stdio.h>\n",
    "#include <string.h>\n",
    "\n",
    "#include <bxi/base/mem.h>\n",
    "\n",
    "int main(void) {\n",
    "    size_t n = 10;\n",
    "    char *ptr = bximem_calloc(n*sizeof(*ptr));\n",
    "    printf(\"\\nMemory content after bximem_calloc #1 (guaranteed to be zeroed)\\n\");\n",
    "    for (size_t i = 0; i < n; i++) printf(\"%02x\", ptr[i]);\n",
    "    memset(ptr, 'A', n*sizeof(*ptr));\n",
    "    BXIFREE(ptr);\n",
    "    printf(\"\\nValue of ptr after a BXIFREE() (guaranteed to be NULL): %p\", ptr);\n",
    "    \n",
    "    ptr = bximem_calloc(n*sizeof(*ptr));\n",
    "    printf(\"\\nMemory content after malloc #2 (guaranteed to be zeroed)\\n\");\n",
    "    for (size_t i = 0; i < n; i++) printf(\"%02x\", ptr[i]);\n",
    "    printf(\"\\n\");\n",
    "    \n",
    "    size_t old_size = n;\n",
    "    n *= 2;\n",
    "    ptr = bximem_realloc(ptr, old_size, n*sizeof(*ptr));\n",
    "    printf(\"\\nMemory content after realloc (the new memory area is not guaranteed to be zeroed)\\n\");\n",
    "    for (size_t i = 0; i < n; i++) printf(\"%02x\", ptr[i]);\n",
    "    printf(\"\\n\");\n",
    "    \n",
    "    BXIFREE(ptr);\n",
    "    BXIFREE(ptr); // This won't produce any error since ptr is already NULL \n",
    "}"
   ]
  }
 ],
 "metadata": {
  "kernelspec": {
   "display_name": "C",
   "language": "c",
   "name": "c_spec"
  },
  "language_info": {
   "file_extension": "c",
   "mimetype": "text/plain",
   "name": "c"
  }
 },
 "nbformat": 4,
 "nbformat_minor": 0
}
