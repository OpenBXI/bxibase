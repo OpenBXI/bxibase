{
 "cells": [
  {
   "cell_type": "markdown",
   "metadata": {},
   "source": [
    "# String Manipulation\n",
    "\n",
    "String manipulation is usually a headache in C compared to Python, Perl or even Java which is compiled. One of the main reason is probaly the choice of the [NULL string terminator](https://en.wikipedia.org/wiki/Null-terminated_string) seen as [\"the most expensive one-byte mistake\"](http://queue.acm.org/detail.cfm?id=2010365) by FreeBSD developer Poul-Henning Kamph. However, for compatibility reason, changing this in C is not reasonable. Therefore, the `bxistr` module proposes few but very useful functions. \n",
    "\n",
    "## Creating a string:\n",
    "\n",
    "`bxistr_new()` provides a simple API for creating a new string safely. The `bxistr_new()` function is similar to `sprintf()` and it defines the appropriate compiler attribute so if a mistake is made in the format string specifier, the compiler produces a warning."
   ]
  },
  {
   "cell_type": "code",
   "execution_count": 6,
   "metadata": {
    "collapsed": false
   },
   "outputs": [
    {
     "name": "stderr",
     "output_type": "stream",
     "text": []
    },
    {
     "name": "stdout",
     "output_type": "stream",
     "text": [
      "A new string containing 'stuff' that is 5 in length\n"
     ]
    }
   ],
   "source": [
    "#include <bxi/base/str.h>\n",
    "#include <string.h>\n",
    "\n",
    "int main(void) {\n",
    "    char * dummy = \"stuff\";\n",
    "    char * str = bxistr_new(\"A new string containing '%s' that is %zu in length\", \n",
    "                            dummy, strlen(dummy));\n",
    "    printf(\"%s\\n\", str);\n",
    "}"
   ]
  },
  {
   "cell_type": "markdown",
   "metadata": {},
   "source": [
    "## Joining strings together\n",
    "\n",
    "`bxistr_join()` allows multiple lines to be joined with a given separator, similarly to Python [str.join()](https://docs.python.org/2/library/stdtypes.html#str.join)."
   ]
  },
  {
   "cell_type": "code",
   "execution_count": 17,
   "metadata": {
    "collapsed": false
   },
   "outputs": [
    {
     "name": "stderr",
     "output_type": "stream",
     "text": []
    },
    {
     "name": "stdout",
     "output_type": "stream",
     "text": [
      "With a comma: Weckl, Gadd, Chambers, Portnoy\n",
      "As new lines: Weckl Gadd Chambers Portnoy\n"
     ]
    }
   ],
   "source": [
    "#include <bxi/base/str.h>\n",
    "\n",
    "int main(void) {\n",
    "    char * drummers[] = {\"Weckl\",\"Gadd\",\"Chambers\",\"Portnoy\"};\n",
    "    size_t drummers_len[] = {5, 4, 8, 7};\n",
    "    char * result;\n",
    "    \n",
    "    size_t n = bxistr_join(\", \", 2, drummers, drummers_len, 4, &result);\n",
    "    printf(\"With a comma: %s\\n\", result);\n",
    "    \n",
    "    n = bxistr_join(\" \", 1, drummers, drummers_len, 4, &result);\n",
    "    printf(\"With spaces: %s\\n\", result);\n",
    "}"
   ]
  },
  {
   "cell_type": "markdown",
   "metadata": {},
   "source": [
    "## Applying a function on each line \n",
    "\n",
    "`bxistr_apply_lines()` calls a given function for each line found in a given string."
   ]
  },
  {
   "cell_type": "code",
   "execution_count": null,
   "metadata": {
    "collapsed": true
   },
   "outputs": [],
   "source": [
    "#include <string.h>\n",
    "#include <bxi/base/str.h>\n",
    "bxierr_p print_great_drummers(char* line, size_t line_len, bool last, void* param) {\n",
    "    char * cp_line = bximem_calloc(sizeof(*cp_line) * line_len);\n",
    "    strncpy(cp_line, line, line_len);\n",
    "    if (last) {\n",
    "        printf(\"Last but not least: %s\\n\", cp_line);\n",
    "        return BXIERR_OK;\n",
    "    }\n",
    "    printf(\"%s is a great drummer\\n\", cp_line);\n",
    "    return BXIERR_OK;\n",
    "}\n",
    "\n",
    "int main(void) {\n",
    "    char * drummers = \"Weckl\\nGadd\\nChambers\\nPortnoy\";\n",
    "    \n",
    "    bxierr_p err = bxistr_apply_lines(drummers, strlen(drummers), print_great_drummers, NULL);\n",
    "    if (bxierr_isko(err)) {\n",
    "        bxierr_report(&err, STDERR_FILENO);\n",
    "    }\n",
    "}"
   ]
  },
  {
   "cell_type": "markdown",
   "metadata": {
    "deletable": true,
    "editable": true
   },
   "source": [
    "## Prefixing each line of a string\n",
    "\n",
    "`bxistr_prefixer()` allows a string to be prefixed.\n",
    "\n",
    "This module is widely used by all other modules."
   ]
  },
  {
   "cell_type": "code",
   "execution_count": null,
   "metadata": {
    "collapsed": true
   },
   "outputs": [],
   "source": []
  }
 ],
 "metadata": {
  "kernelspec": {
   "display_name": "C",
   "language": "c",
   "name": "c_spec"
  },
  "language_info": {
   "file_extension": "c",
   "mimetype": "text/plain",
   "name": "c"
  }
 },
 "nbformat": 4,
 "nbformat_minor": 0
}
