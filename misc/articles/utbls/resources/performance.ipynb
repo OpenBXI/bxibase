{
 "cells": [
  {
   "cell_type": "markdown",
   "metadata": {},
   "source": [
    "# Performance of bxilog Python library"
   ]
  },
  {
   "cell_type": "markdown",
   "metadata": {},
   "source": [
    "## Case 1: no output at all"
   ]
  },
  {
   "cell_type": "code",
   "execution_count": 17,
   "metadata": {},
   "outputs": [
    {
     "name": "stdout",
     "output_type": "stream",
     "text": [
      "logging:  15.3471808434\n",
      "bxilog:  15.350525856\n"
     ]
    }
   ],
   "source": [
    "import sys\n",
    "import timeit\n",
    "import logging\n",
    "import bxi.base.log as bxilog\n",
    "\n",
    "logging_logger = logging.getLogger('Foo')\n",
    "bxilog_logger = bxilog.getLogger('Fooc d')\n",
    "\n",
    "def bench_logging():\n",
    "    logging_logger.debug(\"Nothing to say\")\n",
    "    \n",
    "def bench_bxilog():\n",
    "    bxilog_logger.debug(\"Nothing to say\")\n",
    "\n",
    "print \"logging: \", timeit.timeit(\"bench_logging\", setup=\"from __main__ import bench_logging\", number=1000000000)\n",
    "print \"bxilog: \", timeit.timeit(\"bench_bxilog\", setup=\"from __main__ import bench_bxilog\", number=1000000000)"
   ]
  },
  {
   "cell_type": "markdown",
   "metadata": {},
   "source": [
    "## Case 2: file handler"
   ]
  },
  {
   "cell_type": "code",
   "execution_count": null,
   "metadata": {
    "collapsed": true
   },
   "outputs": [],
   "source": []
  }
 ],
 "metadata": {
  "kernelspec": {
   "display_name": "Python 2",
   "language": "python",
   "name": "python2"
  },
  "language_info": {
   "codemirror_mode": {
    "name": "ipython",
    "version": 2
   },
   "file_extension": ".py",
   "mimetype": "text/x-python",
   "name": "python",
   "nbconvert_exporter": "python",
   "pygments_lexer": "ipython2",
   "version": "2.7.5"
  }
 },
 "nbformat": 4,
 "nbformat_minor": 2
}
