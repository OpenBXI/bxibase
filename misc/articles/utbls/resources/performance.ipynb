{
 "cells": [
  {
   "cell_type": "markdown",
   "metadata": {},
   "source": [
    "# Performance of bxilog Python library"
   ]
  },
  {
   "cell_type": "markdown",
   "metadata": {},
   "source": [
    "## Case 1: no output at all"
   ]
  },
  {
   "cell_type": "code",
   "execution_count": 6,
   "metadata": {},
   "outputs": [
    {
     "name": "stdout",
     "output_type": "stream",
     "text": [
      "logging:  1.8653659960255027\n"
     ]
    }
   ],
   "source": [
    "import sys\n",
    "import timeit\n",
    "import logging\n",
    "#import bxi.base.log as bxilog\n",
    "\n",
    "def bench_bxilog():\n",
    "    bxilog.getLogger('Foo')\n",
    "\n",
    "def bench_logging():\n",
    "    logging.getLogger('Foo')\n",
    "\n",
    "print(\"logging: \", timeit.timeit(\"bench_logging\", setup=\"from __main__ import bench_logging\", number=100000000))\n",
    "print(\"logging: \", timeit.timeit(\"bench_logging\", setup=\"from __main__ import bench_logging\", number=100000000))"
   ]
  },
  {
   "cell_type": "markdown",
   "metadata": {},
   "source": [
    "## Case 2: file handler"
   ]
  }
 ],
 "metadata": {
  "kernelspec": {
   "display_name": "Python 3",
   "language": "python",
   "name": "python3"
  },
  "language_info": {
   "codemirror_mode": {
    "name": "ipython",
    "version": 3
   },
   "file_extension": ".py",
   "mimetype": "text/x-python",
   "name": "python",
   "nbconvert_exporter": "python",
   "pygments_lexer": "ipython3",
   "version": "3.4.5"
  }
 },
 "nbformat": 4,
 "nbformat_minor": 2
}
