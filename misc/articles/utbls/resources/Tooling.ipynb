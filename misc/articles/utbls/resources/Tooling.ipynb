{
 "cells": [
  {
   "cell_type": "markdown",
   "metadata": {},
   "source": [
    "# Tooling"
   ]
  },
  {
   "cell_type": "markdown",
   "metadata": {},
   "source": [
    "## Parsing files produced by bxilog file handler\n",
    "\n",
    "The `bxibase` package comes with a file parser that is able to parse a file produced by a bxilog file handler in such a way that:\n",
    "\n",
    "* log level are highlighted;\n",
    "* log produced by different threads are highlighted;\n",
    "* logs are re-ordered when required.\n",
    "\n",
    "See below for a concrete example."
   ]
  },
  {
   "cell_type": "code",
   "execution_count": 4,
   "metadata": {},
   "outputs": [
    {
     "name": "stdout",
     "output_type": "stream",
     "text": [
      "\u001b[38;5;83mD|20170221T092549.847922227|\u001b[38;5;153m03765.03765=01792:|log.c:175@bxilog_init|~bxilog|Initialization done\u001b[39m\n",
      "\u001b[38;5;77mF|20170221T092549.848382090|\u001b[38;5;153m03765.03765=01792:|signal.c:76@bxilog_install_sighandler|~bxilog.signal|Alternate signal stack set at 0x95a220 (8192 B)\u001b[39m\n",
      "\u001b[38;5;83mD|20170221T092549.848389341|\u001b[38;5;153m03765.03765=01792:|signal.c:81@bxilog_install_sighandler|~bxilog.signal|Setting signal handler process wide\u001b[39m\n",
      "\u001b[38;5;83mD|20170221T092549.848395565|\u001b[38;5;153m03765.03765=01792:|signal.c:102@bxilog_install_sighandler|~bxilog.signal|Signal handler set for 11: Segmentation fault\u001b[39m\n",
      "\u001b[38;5;83mD|20170221T092549.848398965|\u001b[38;5;153m03765.03765=01792:|signal.c:102@bxilog_install_sighandler|~bxilog.signal|Signal handler set for 7: Bus error\u001b[39m\n",
      "\u001b[38;5;83mD|20170221T092549.848401179|\u001b[38;5;153m03765.03765=01792:|signal.c:102@bxilog_install_sighandler|~bxilog.signal|Signal handler set for 8: Floating point exception\u001b[39m\n",
      "\u001b[38;5;83mD|20170221T092549.848402919|\u001b[38;5;153m03765.03765=01792:|signal.c:102@bxilog_install_sighandler|~bxilog.signal|Signal handler set for 4: Illegal instruction\u001b[39m\n",
      "\u001b[38;5;83mD|20170221T092549.848404477|\u001b[38;5;153m03765.03765=01792:|signal.c:102@bxilog_install_sighandler|~bxilog.signal|Signal handler set for 2: Interrupt\u001b[39m\n",
      "\u001b[38;5;83mD|20170221T092549.848405914|\u001b[38;5;153m03765.03765=01792:|signal.c:102@bxilog_install_sighandler|~bxilog.signal|Signal handler set for 15: Terminated\u001b[39m\n",
      "\u001b[38;5;46mI|20170221T092549.848406903|\u001b[38;5;153m03765.03765=01792:|signal.c:106@bxilog_install_sighandler|~bxilog.signal|Signal handlers set\u001b[39m\n",
      "\u001b[38;5;83mD|20170221T092549.848701243|\u001b[38;5;153m03765.03765=01792:|log/__init__.py:605@debug||BXI logging configuration: {'setsighandler': True, 'handlers': ['console', 'file'], 'console': {'colors': 'none', 'stderr_level': 'WARNING', 'filters': ':out', 'module': 'bxi.base.log.console_handler'}, 'file': {'path': '/tmp/foo.log', 'append': False, 'filters': ':trace', 'module': 'bxi.base.log.file_handler'}}\u001b[39m\n",
      "\u001b[38;5;196mE|20170221T092549.853683246|\u001b[38;5;153m03765.03765=01792:|log/__init__.py:661@exception||Dealing with the exception 'ValueError'\u001b[39m\n",
      "\u001b[38;5;196mE|20170221T092549.853702854|\u001b[38;5;153m03765.03765=01792:|log/__init__.py:661@exception||ValueError: Something wrong happened!\u001b[39m\n",
      "\u001b[38;5;71mT|20170221T092549.853704008|\u001b[38;5;153m03765.03765=01792:|log/__init__.py:661@exception||<module> at <stdin>:23\u001b[39m\n",
      "\u001b[38;5;71mT|.........................|\u001b[38;5;153m03765.03765=01792:|log/__init__.py:661@exception||\tNone\u001b[39m\n",
      "\u001b[38;5;83mD|20170221T092549.853830440|\u001b[38;5;153m03765.03765=01792:|log.c:212@bxilog_finalize|~bxilog|Exiting bxilog\u001b[39m\n"
     ]
    }
   ],
   "source": [
    "%%bash\n",
    "\n",
    "bxilog-parser /tmp/foo.log"
   ]
  }
 ],
 "metadata": {
  "kernelspec": {
   "display_name": "Python 2",
   "language": "python",
   "name": "python2"
  },
  "language_info": {
   "codemirror_mode": {
    "name": "ipython",
    "version": 2
   },
   "file_extension": ".py",
   "mimetype": "text/x-python",
   "name": "python",
   "nbconvert_exporter": "python",
   "pygments_lexer": "ipython2",
   "version": "2.7.5"
  }
 },
 "nbformat": 4,
 "nbformat_minor": 1
}
