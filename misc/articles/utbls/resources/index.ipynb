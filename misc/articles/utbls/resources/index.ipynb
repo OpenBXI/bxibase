{
 "cells": [
  {
   "cell_type": "markdown",
   "metadata": {},
   "source": [
    "# Brief Overview of the `bxilog` Python module\n",
    "\n",
    "First the `bxilog` Python module is backed by a C library that implements the following main concepts:\n",
    "\n",
    "* asynchronous logging thanks to a lock-less design: once a thread as produced its log, it hands it off to the logging library with no contention ensuring excellent scalability on today many-cores architecture;\n",
    "* zero printf: any message a thread outputs might be able to go to various location according to the configuration. Therefore, printf() statement should be removed from program and replaced by simple OUTPUT() statements. If the syntax remains roughly the same, the expressive power is much better if you consider a [zero-print bxilog configuration](https://github.com/OpenBXI/bxibase/blob/master/misc/articles/zpc/resources/index.ipynb).\n",
    "* post-processing of time consuming task: reducing the amount of CPU cycles used for logs production at runtime, time consuming task such as log ordering, human time stamping, stacktrace enrichment, ... are performed by post-processing tools.\n",
    "\n",
    "The `bxilog` python module has the following properties:\n",
    "\n",
    "* [easy to use](Usage.ipynb)\n",
    "* [easy to configure](Configuration.ipynb)\n",
    "* [easy to enrich](Enriching.ipynb)\n",
    "* [high performance](Performance.ipynb)\n",
    "* [full-featured](Features.ipynb)\n",
    "* [furnished with production ready post-processing tools](Tooling.ipynb)\n",
    "* [minimum compliance with standard Python logging module](compat.ipynb)\n",
    "    \n"
   ]
  }
 ],
 "metadata": {
  "kernelspec": {
   "display_name": "Python 2",
   "language": "python",
   "name": "python2"
  },
  "language_info": {
   "codemirror_mode": {
    "name": "ipython",
    "version": 2
   },
   "file_extension": ".py",
   "mimetype": "text/x-python",
   "name": "python",
   "nbconvert_exporter": "python",
   "pygments_lexer": "ipython2",
   "version": "2.7.5"
  }
 },
 "nbformat": 4,
 "nbformat_minor": 1
}
