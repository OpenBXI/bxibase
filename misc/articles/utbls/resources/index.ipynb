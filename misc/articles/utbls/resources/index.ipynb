{
 "cells": [
  {
   "cell_type": "markdown",
   "metadata": {},
   "source": [
    "# Brief Overview of the `bxilog` Python module\n",
    "\n",
    "The `bxilog` python module has the following properties:\n",
    "\n",
    "* [high performance](performance.ipynb)\n",
    "* [easy to use](usage.ipynb)\n",
    "* [full-featured](features.ipynb)\n",
    "* [minimum compliance with standard Python logging module](compat.ipynb);\n",
    "    \n",
    "# Main purpose: no print or printf statements\n",
    "\n",
    "The `bxilog` python module has been designed to remove all print or printf statements. The basic idea is that any message a thread outputs might be able to go to various location according to the configuration.\n",
    "\n",
    "# Logger, Level, Filter and Handler concepts\n",
    "\n",
    "The `bxilog` python module provides different kinds of objects.\n",
    "\n",
    "## Logger\n",
    "\n",
    "A logger instance must be used in order to produce a log. A logger can safely be traversed by multiple threads concurrently. A logger is given a name. For example:"
   ]
  },
  {
   "cell_type": "code",
   "execution_count": null,
   "metadata": {
    "collapsed": true
   },
   "outputs": [],
   "source": []
  },
  {
   "cell_type": "code",
   "execution_count": 1,
   "metadata": {},
   "outputs": [
    {
     "name": "stdout",
     "output_type": "stream",
     "text": [
      "Something to say\n"
     ]
    },
    {
     "name": "stderr",
     "output_type": "stream",
     "text": [
      "[W] my.stuff     Hey!\n"
     ]
    }
   ],
   "source": [
    "%%python\n",
    "\n",
    "import bxi.base.log as bxilog\n",
    "\n",
    "logger = bxilog.get_logger(\"my.stuff\")\n",
    "logger.out(\"Something to say\")\n",
    "logger.warn(\"Hey!\")"
   ]
  },
  {
   "cell_type": "markdown",
   "metadata": {
    "collapsed": true
   },
   "source": [
    "The `bxilog` python module provides a default logger with the empty name: ''. It can be used directly as in the following:"
   ]
  },
  {
   "cell_type": "code",
   "execution_count": 33,
   "metadata": {},
   "outputs": [
    {
     "name": "stdout",
     "output_type": "stream",
     "text": [
      "Something said with the default logger\n"
     ]
    }
   ],
   "source": [
    "%%python\n",
    "\n",
    "import bxi.base.log as bxilog\n",
    "\n",
    "bxilog.out(\"Something said with the default logger\")"
   ]
  },
  {
   "cell_type": "markdown",
   "metadata": {},
   "source": [
    "From now, you see little benefits from using `bxilog` instead of the standard `print` statement. This will start to appear when we will consider the **level** concept.\n",
    "\n",
    "## Level\n",
    "\n",
    "Each logger is given a level which tells if the log must be produced or not at the thread level."
   ]
  },
  {
   "cell_type": "code",
   "execution_count": 40,
   "metadata": {},
   "outputs": [
    {
     "name": "stdout",
     "output_type": "stream",
     "text": [
      "Level names: off,panic,alert,critical,error,warning,notice,output,info,debug,fine,trace,lowest\n",
      "Level for my.stuff: lowest\n"
     ]
    }
   ],
   "source": [
    "%%python\n",
    "\n",
    "import bxi.base.log as bxilog\n",
    "\n",
    "names = bxilog.LEVEL_NAMES\n",
    "bxilog.out(\"Level names: %s\", \",\".join(names))\n",
    "logger = bxilog.get_logger(\"my.stuff\")\n",
    "logger.out(\"Level for %s: %s\", logger.name, names[logger.level])\n"
   ]
  },
  {
   "cell_type": "markdown",
   "metadata": {},
   "source": [
    "As you see the level for the new logger is `lowest`. This basically means that all logging functions made through this logger actually emits a log. This does not mean however that the log will end in the output as shown below:"
   ]
  },
  {
   "cell_type": "code",
   "execution_count": 43,
   "metadata": {
    "collapsed": true
   },
   "outputs": [],
   "source": [
    "%%python\n",
    "\n",
    "import bxi.base.log as bxilog\n",
    "\n",
    "logger = bxilog.get_logger(\"my.stuff\")\n",
    "bxilog.debug(\"Something to say\")"
   ]
  },
  {
   "cell_type": "markdown",
   "metadata": {},
   "source": [
    "The reason for this is handlers and their filters.\n",
    "\n",
    "## Handlers and Filters\n",
    "\n",
    "Actually, when a log is emmited by a thread through a logger, it is received by handlers. A handler is responsible for the production of the log in a given format \"somewhere\": it can be a file, the standard output, the standard error, the network or anything else. Handlers can be plugged in. By default, a console handler is provided. This means that log emmitted goes either to the standard output or to the standard error according to the level and to the filters related to the handler. A filter is a simple pair of (`prefix`, `level`): if a log has been emmitted by a logger with a name that matches the filter's `prefix` at a level above the filter's `level`, then it is produced.\n",
    "By default, the console handler only produces logs on the standard output for level `lowest` to `warning`, and on the standard error for level `error` to `panic`. The example below will make it clearer."
   ]
  },
  {
   "cell_type": "code",
   "execution_count": 48,
   "metadata": {},
   "outputs": [
    {
     "name": "stdout",
     "output_type": "stream",
     "text": [
      "Something normal to say\n",
      "[D] my.stuff     Not that important!\n"
     ]
    },
    {
     "name": "stderr",
     "output_type": "stream",
     "text": [
      "[A] my.stuff     Shouting loud!\n"
     ]
    }
   ],
   "source": [
    "%%python\n",
    "\n",
    "import bxi.base.log as bxilog\n",
    "\n",
    "\n",
    "config = {'handlers': ['console'],\n",
    "          'setsighandler': True,\n",
    "          'console': {\n",
    "                      'module': 'bxi.base.log.console_handler',\n",
    "                      'filters': 'my:debug',\n",
    "                      'stderr_level': 'WARNING',\n",
    "                      'colors': 'none',\n",
    "                      }\n",
    "          }\n",
    "bxilog.set_config(config)\n",
    "\n",
    "logger = bxilog.get_logger(\"my.stuff\")\n",
    "logger.out(\"Something normal to say\")\n",
    "logger.alert(\"Shouting loud!\")\n",
    "logger.debug(\"Not that important!\")\n",
    "logger.lowest(\"Murmuring, don't pay attention...\")\n"
   ]
  },
  {
   "cell_type": "markdown",
   "metadata": {},
   "source": [
    "As you see, the log at `lowest` level has not been produced. This is because the filters given to the console handler in the configuration specified 'my:debug' tells: \"logs emmitted by a logger with a name starting with `my` and at the level `debug` or above must be produced\". \n",
    "\n",
    "Note that if you want all logs emmitted at the `debug` level, you will specifies filters with the following pattern: `:debug`. The empty prefix '' will match any logger name (any logger name starts with the empty string). \n",
    "Try it and see what happens."
   ]
  },
  {
   "cell_type": "markdown",
   "metadata": {},
   "source": [
    "## Configuration\n",
    "\n",
    "Configuration of the BXI logging library can be done through a dictionnary, a `ConfigObj` or a file.\n",
    "\n",
    "Basically, you specify a list of `handlers` and for each of them, you specify its configuration. Its configuration always include the python module name, and the filters. Most handlers requires other parameters. You must have a look to the documentation to know the list of required parameters.\n",
    "\n",
    "The configuration below shows a good example for production use where all logs emmitted at the debug level are produced in a file while the console only gets normal output level logs and error logs."
   ]
  },
  {
   "cell_type": "code",
   "execution_count": 9,
   "metadata": {},
   "outputs": [
    {
     "name": "stdout",
     "output_type": "stream",
     "text": [
      "Something normal to say\n"
     ]
    },
    {
     "name": "stderr",
     "output_type": "stream",
     "text": [
      "[A] my.stuff     Shouting loud!\n"
     ]
    }
   ],
   "source": [
    "%%python\n",
    "\n",
    "import bxi.base.log as bxilog\n",
    "import syslog\n",
    "import configobj\n",
    "\n",
    "config = {'handlers': ['console', 'file', ],\n",
    "          'setsighandler': True,\n",
    "          'console': {\n",
    "                      'module': 'bxi.base.log.console_handler',\n",
    "                      'filters': ':output',\n",
    "                      'stderr_level': 'WARNING',\n",
    "                      'colors': 'none',\n",
    "                      },\n",
    "          'file': {\n",
    "                      'module': 'bxi.base.log.file_handler',\n",
    "                      'filters': ':debug',\n",
    "                      'path': '/tmp/foo.log',\n",
    "                      'append': False,\n",
    "                  },\n",
    "    }\n",
    "    \n",
    "bxilog.set_config(configobj.ConfigObj(config))\n",
    "\n",
    "logger = bxilog.get_logger(\"my.stuff\")\n",
    "logger.out(\"Something normal to say\")\n",
    "logger.alert(\"Shouting loud!\")\n",
    "logger.debug(\"Not that important!\")\n",
    "logger.lowest(\"Murmuring, don't pay attention...\")\n",
    "\n"
   ]
  },
  {
   "cell_type": "markdown",
   "metadata": {},
   "source": [
    "## Logging and exceptions\n",
    "\n",
    "When an exception happens, two things might happen:\n",
    "\n",
    "    * someone in the stack catches the exception and deals with it;\n",
    "    * no one catches the exception and the thread exits.\n",
    "    \n",
    "In the first case, the correct way to report an exception is to log it as shown below:"
   ]
  },
  {
   "cell_type": "code",
   "execution_count": 2,
   "metadata": {},
   "outputs": [
    {
     "name": "stderr",
     "output_type": "stream",
     "text": [
      "[E]              Dealing with the exception 'ValueError'\n",
      "[E]              ValueError: Something wrong happened!\n"
     ]
    }
   ],
   "source": [
    "%%python\n",
    "\n",
    "import bxi.base.log as bxilog\n",
    "import configobj\n",
    "\n",
    "config = {'handlers': ['console', 'file', ],\n",
    "          'setsighandler': True,\n",
    "          'console': {\n",
    "                      'module': 'bxi.base.log.console_handler',\n",
    "                      'filters': ':out',\n",
    "                      'stderr_level': 'WARNING',\n",
    "                      'colors': 'none',\n",
    "                      },\n",
    "          'file': {\n",
    "                      'module': 'bxi.base.log.file_handler',\n",
    "                      'filters': ':trace',\n",
    "                      'path': '/tmp/foo.log',\n",
    "                      'append': False,\n",
    "                  },\n",
    "    }\n",
    "bxilog.set_config(configobj.ConfigObj(config))\n",
    "\n",
    "try:\n",
    "    raise ValueError(\"Something wrong happened!\")\n",
    "except ValueError as ve:\n",
    "    bxilog.exception(\"Dealing with the exception '%s'\", ve.__class__.__name__)"
   ]
  },
  {
   "cell_type": "markdown",
   "metadata": {},
   "source": [
    "Note how the file contains much more information: in particular it holds the traceback!"
   ]
  },
  {
   "cell_type": "code",
   "execution_count": 3,
   "metadata": {},
   "outputs": [
    {
     "name": "stdout",
     "output_type": "stream",
     "text": [
      "D|20170221T092549.847922227|03765.03765=01792:|log.c:175@bxilog_init|~bxilog|Initialization done\n",
      "F|20170221T092549.848382090|03765.03765=01792:|signal.c:76@bxilog_install_sighandler|~bxilog.signal|Alternate signal stack set at 0x95a220 (8192 B)\n",
      "D|20170221T092549.848389341|03765.03765=01792:|signal.c:81@bxilog_install_sighandler|~bxilog.signal|Setting signal handler process wide\n",
      "D|20170221T092549.848395565|03765.03765=01792:|signal.c:102@bxilog_install_sighandler|~bxilog.signal|Signal handler set for 11: Segmentation fault\n",
      "D|20170221T092549.848398965|03765.03765=01792:|signal.c:102@bxilog_install_sighandler|~bxilog.signal|Signal handler set for 7: Bus error\n",
      "D|20170221T092549.848401179|03765.03765=01792:|signal.c:102@bxilog_install_sighandler|~bxilog.signal|Signal handler set for 8: Floating point exception\n",
      "D|20170221T092549.848402919|03765.03765=01792:|signal.c:102@bxilog_install_sighandler|~bxilog.signal|Signal handler set for 4: Illegal instruction\n",
      "D|20170221T092549.848404477|03765.03765=01792:|signal.c:102@bxilog_install_sighandler|~bxilog.signal|Signal handler set for 2: Interrupt\n",
      "D|20170221T092549.848405914|03765.03765=01792:|signal.c:102@bxilog_install_sighandler|~bxilog.signal|Signal handler set for 15: Terminated\n",
      "I|20170221T092549.848406903|03765.03765=01792:|signal.c:106@bxilog_install_sighandler|~bxilog.signal|Signal handlers set\n",
      "D|20170221T092549.848701243|03765.03765=01792:|log/__init__.py:605@debug||BXI logging configuration: {'setsighandler': True, 'handlers': ['console', 'file'], 'console': {'colors': 'none', 'stderr_level': 'WARNING', 'filters': ':out', 'module': 'bxi.base.log.console_handler'}, 'file': {'path': '/tmp/foo.log', 'append': False, 'filters': ':trace', 'module': 'bxi.base.log.file_handler'}}\n",
      "E|20170221T092549.853683246|03765.03765=01792:|log/__init__.py:661@exception||Dealing with the exception 'ValueError'\n",
      "E|20170221T092549.853702854|03765.03765=01792:|log/__init__.py:661@exception||ValueError: Something wrong happened!\n",
      "T|20170221T092549.853704008|03765.03765=01792:|log/__init__.py:661@exception||<module> at <stdin>:23\n",
      "T|20170221T092549.853704008|03765.03765=01792:|log/__init__.py:661@exception||\tNone\n",
      "D|20170221T092549.853830440|03765.03765=01792:|log.c:212@bxilog_finalize|~bxilog|Exiting bxilog\n"
     ]
    }
   ],
   "source": [
    "%%bash\n",
    "\n",
    "cat /tmp/foo.log"
   ]
  },
  {
   "cell_type": "markdown",
   "metadata": {},
   "source": [
    "In the second case, there is nothing to do, the BXI logging system will take care of the  reporting itself:"
   ]
  },
  {
   "cell_type": "code",
   "execution_count": 1,
   "metadata": {},
   "outputs": [
    {
     "name": "stderr",
     "output_type": "stream",
     "text": [
      "Traceback (most recent call last):\n",
      "  File \"<stdin>\", line 22, in <module>\n",
      "ValueError: Something wrong happened!\n"
     ]
    }
   ],
   "source": [
    "%%python\n",
    "\n",
    "import bxi.base.log as bxilog\n",
    "import configobj\n",
    "\n",
    "config = {'handlers': ['console', 'file', ],\n",
    "          'setsighandler': True,\n",
    "          'console': {\n",
    "                      'module': 'bxi.base.log.console_handler',\n",
    "                      'filters': ':out',\n",
    "                      'stderr_level': 'WARNING',\n",
    "                      'colors': 'none',\n",
    "                      },\n",
    "          'file': {\n",
    "                      'module': 'bxi.base.log.file_handler',\n",
    "                      'filters': ':trace',\n",
    "                      'path': '/tmp/foo.log',\n",
    "                      'append': False,\n",
    "                  },\n",
    "    }          \n",
    "bxilog.set_config(configobj.ConfigObj(config))\n",
    "\n",
    "raise ValueError(\"Something wrong happened!\")"
   ]
  },
  {
   "cell_type": "code",
   "execution_count": 2,
   "metadata": {},
   "outputs": [
    {
     "name": "stdout",
     "output_type": "stream",
     "text": [
      "D|20170220T192537.423333547|09625.09625=63232:|log.c:175@bxilog_init|~bxilog|Initialization done\n",
      "F|20170220T192537.423810648|09625.09625=63232:|signal.c:76@bxilog_install_sighandler|~bxilog.signal|Alternate signal stack set at 0x958460 (8192 B)\n",
      "D|20170220T192537.423817225|09625.09625=63232:|signal.c:81@bxilog_install_sighandler|~bxilog.signal|Setting signal handler process wide\n",
      "D|20170220T192537.423830696|09625.09625=63232:|signal.c:102@bxilog_install_sighandler|~bxilog.signal|Signal handler set for 11: Segmentation fault\n",
      "D|20170220T192537.423833906|09625.09625=63232:|signal.c:102@bxilog_install_sighandler|~bxilog.signal|Signal handler set for 7: Bus error\n",
      "D|20170220T192537.423835272|09625.09625=63232:|signal.c:102@bxilog_install_sighandler|~bxilog.signal|Signal handler set for 8: Floating point exception\n",
      "D|20170220T192537.423837617|09625.09625=63232:|signal.c:102@bxilog_install_sighandler|~bxilog.signal|Signal handler set for 4: Illegal instruction\n",
      "D|20170220T192537.423839200|09625.09625=63232:|signal.c:102@bxilog_install_sighandler|~bxilog.signal|Signal handler set for 2: Interrupt\n",
      "D|20170220T192537.423841269|09625.09625=63232:|signal.c:102@bxilog_install_sighandler|~bxilog.signal|Signal handler set for 15: Terminated\n",
      "I|20170220T192537.423842442|09625.09625=63232:|signal.c:106@bxilog_install_sighandler|~bxilog.signal|Signal handlers set\n",
      "D|20170220T192537.424120820|09625.09625=63232:|log/__init__.py:605@debug||BXI logging configuration: {'setsighandler': True, 'handlers': ['console', 'file'], 'console': {'colors': 'none', 'stderr_level': 'WARNING', 'filters': ':out', 'module': 'bxi.base.log.console_handler'}, 'file': {'path': '/tmp/foo.log', 'append': False, 'filters': ':trace', 'module': 'bxi.base.log.file_handler'}}\n",
      "E|20170220T192537.428873213|09625.09625=63232:|log/__init__.py:661@exception||Dealing with the exception 'ValueError'\n",
      "E|20170220T192537.428883167|09625.09625=63232:|log/__init__.py:661@exception||ValueError: Something wrong happened!\n",
      "T|20170220T192537.428884107|09625.09625=63232:|log/__init__.py:661@exception||<module> at <stdin>:23\n",
      "T|20170220T192537.428884107|09625.09625=63232:|log/__init__.py:661@exception||\tNone\n",
      "D|20170220T192537.429018380|09625.09625=63232:|log.c:212@bxilog_finalize|~bxilog|Exiting bxilog\n"
     ]
    }
   ],
   "source": [
    "%%bash \n",
    "\n",
    "cat /tmp/foo.log\n"
   ]
  },
  {
   "cell_type": "markdown",
   "metadata": {},
   "source": [
    "# Parsing files produced by bxilog file handler\n",
    "\n",
    "The `bxibase` package comes with a file parser that is able to parse a file produced by a bxilog file handler in such a way that:\n",
    "\n",
    "* log level are highlighted;\n",
    "* log produced by different threads are highlighted;\n",
    "* logs are re-ordered when required.\n",
    "\n",
    "See below for a concrete example."
   ]
  },
  {
   "cell_type": "code",
   "execution_count": 4,
   "metadata": {},
   "outputs": [
    {
     "name": "stdout",
     "output_type": "stream",
     "text": [
      "\u001b[38;5;83mD|20170221T092549.847922227|\u001b[38;5;153m03765.03765=01792:|log.c:175@bxilog_init|~bxilog|Initialization done\u001b[39m\n",
      "\u001b[38;5;77mF|20170221T092549.848382090|\u001b[38;5;153m03765.03765=01792:|signal.c:76@bxilog_install_sighandler|~bxilog.signal|Alternate signal stack set at 0x95a220 (8192 B)\u001b[39m\n",
      "\u001b[38;5;83mD|20170221T092549.848389341|\u001b[38;5;153m03765.03765=01792:|signal.c:81@bxilog_install_sighandler|~bxilog.signal|Setting signal handler process wide\u001b[39m\n",
      "\u001b[38;5;83mD|20170221T092549.848395565|\u001b[38;5;153m03765.03765=01792:|signal.c:102@bxilog_install_sighandler|~bxilog.signal|Signal handler set for 11: Segmentation fault\u001b[39m\n",
      "\u001b[38;5;83mD|20170221T092549.848398965|\u001b[38;5;153m03765.03765=01792:|signal.c:102@bxilog_install_sighandler|~bxilog.signal|Signal handler set for 7: Bus error\u001b[39m\n",
      "\u001b[38;5;83mD|20170221T092549.848401179|\u001b[38;5;153m03765.03765=01792:|signal.c:102@bxilog_install_sighandler|~bxilog.signal|Signal handler set for 8: Floating point exception\u001b[39m\n",
      "\u001b[38;5;83mD|20170221T092549.848402919|\u001b[38;5;153m03765.03765=01792:|signal.c:102@bxilog_install_sighandler|~bxilog.signal|Signal handler set for 4: Illegal instruction\u001b[39m\n",
      "\u001b[38;5;83mD|20170221T092549.848404477|\u001b[38;5;153m03765.03765=01792:|signal.c:102@bxilog_install_sighandler|~bxilog.signal|Signal handler set for 2: Interrupt\u001b[39m\n",
      "\u001b[38;5;83mD|20170221T092549.848405914|\u001b[38;5;153m03765.03765=01792:|signal.c:102@bxilog_install_sighandler|~bxilog.signal|Signal handler set for 15: Terminated\u001b[39m\n",
      "\u001b[38;5;46mI|20170221T092549.848406903|\u001b[38;5;153m03765.03765=01792:|signal.c:106@bxilog_install_sighandler|~bxilog.signal|Signal handlers set\u001b[39m\n",
      "\u001b[38;5;83mD|20170221T092549.848701243|\u001b[38;5;153m03765.03765=01792:|log/__init__.py:605@debug||BXI logging configuration: {'setsighandler': True, 'handlers': ['console', 'file'], 'console': {'colors': 'none', 'stderr_level': 'WARNING', 'filters': ':out', 'module': 'bxi.base.log.console_handler'}, 'file': {'path': '/tmp/foo.log', 'append': False, 'filters': ':trace', 'module': 'bxi.base.log.file_handler'}}\u001b[39m\n",
      "\u001b[38;5;196mE|20170221T092549.853683246|\u001b[38;5;153m03765.03765=01792:|log/__init__.py:661@exception||Dealing with the exception 'ValueError'\u001b[39m\n",
      "\u001b[38;5;196mE|20170221T092549.853702854|\u001b[38;5;153m03765.03765=01792:|log/__init__.py:661@exception||ValueError: Something wrong happened!\u001b[39m\n",
      "\u001b[38;5;71mT|20170221T092549.853704008|\u001b[38;5;153m03765.03765=01792:|log/__init__.py:661@exception||<module> at <stdin>:23\u001b[39m\n",
      "\u001b[38;5;71mT|.........................|\u001b[38;5;153m03765.03765=01792:|log/__init__.py:661@exception||\tNone\u001b[39m\n",
      "\u001b[38;5;83mD|20170221T092549.853830440|\u001b[38;5;153m03765.03765=01792:|log.c:212@bxilog_finalize|~bxilog|Exiting bxilog\u001b[39m\n"
     ]
    }
   ],
   "source": [
    "%%bash\n",
    "\n",
    "bxilog-parser /tmp/foo.log"
   ]
  }
 ],
 "metadata": {
  "kernelspec": {
   "display_name": "Python 2",
   "language": "python",
   "name": "python2"
  },
  "language_info": {
   "codemirror_mode": {
    "name": "ipython",
    "version": 2
   },
   "file_extension": ".py",
   "mimetype": "text/x-python",
   "name": "python",
   "nbconvert_exporter": "python",
   "pygments_lexer": "ipython2",
   "version": "2.7.5"
  }
 },
 "nbformat": 4,
 "nbformat_minor": 1
}
