{
 "cells": [
  {
   "cell_type": "markdown",
   "metadata": {},
   "source": [
    "## Configuration\n",
    "\n",
    "Configuration of the BXI logging library can be done through a dictionnary, a `ConfigObj` or a file.\n",
    "\n",
    "Basically, you specify a list of `handlers` and for each of them, you specify its configuration. Its configuration always include the python module name, and the filters. Most handlers requires other parameters. You must have a look to the documentation to know the list of required parameters.\n",
    "\n",
    "The configuration below shows a good example for production use where all logs emmitted at the debug level are produced in a file while the console only gets normal output level logs and error logs."
   ]
  },
  {
   "cell_type": "code",
   "execution_count": 9,
   "metadata": {},
   "outputs": [
    {
     "name": "stdout",
     "output_type": "stream",
     "text": [
      "Something normal to say\n"
     ]
    },
    {
     "name": "stderr",
     "output_type": "stream",
     "text": [
      "[A] my.stuff     Shouting loud!\n"
     ]
    }
   ],
   "source": [
    "%%python\n",
    "\n",
    "import bxi.base.log as bxilog\n",
    "import syslog\n",
    "import configobj\n",
    "\n",
    "config = {'handlers': ['console', 'file', ],\n",
    "          'setsighandler': True,\n",
    "          'console': {\n",
    "                      'module': 'bxi.base.log.console_handler',\n",
    "                      'filters': ':output',\n",
    "                      'stderr_level': 'WARNING',\n",
    "                      'colors': 'none',\n",
    "                      },\n",
    "          'file': {\n",
    "                      'module': 'bxi.base.log.file_handler',\n",
    "                      'filters': ':debug',\n",
    "                      'path': '/tmp/foo.log',\n",
    "                      'append': False,\n",
    "                  },\n",
    "    }\n",
    "    \n",
    "bxilog.set_config(configobj.ConfigObj(config))\n",
    "\n",
    "logger = bxilog.get_logger(\"my.stuff\")\n",
    "logger.out(\"Something normal to say\")\n",
    "logger.alert(\"Shouting loud!\")\n",
    "logger.debug(\"Not that important!\")\n",
    "logger.lowest(\"Murmuring, don't pay attention...\")\n",
    "\n"
   ]
  }
 ],
 "metadata": {
  "kernelspec": {
   "display_name": "Python 2",
   "language": "python",
   "name": "python2"
  },
  "language_info": {
   "codemirror_mode": {
    "name": "ipython",
    "version": 2
   },
   "file_extension": ".py",
   "mimetype": "text/x-python",
   "name": "python",
   "nbconvert_exporter": "python",
   "pygments_lexer": "ipython2",
   "version": "2.7.5"
  }
 },
 "nbformat": 4,
 "nbformat_minor": 1
}
