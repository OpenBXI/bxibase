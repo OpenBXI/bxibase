{
 "cells": [
  {
   "cell_type": "markdown",
   "metadata": {
    "collapsed": true
   },
   "source": [
    "# `bxilog` features\n",
    "\n",
    "## Filtering\n",
    "\n",
    "## Console Handler\n",
    "\n",
    "### Logger names length configuration in output\n",
    "\n",
    "### stdout/stderr separation\n",
    "\n",
    "### Colors\n",
    "\n",
    "## Fork support\n",
    "\n",
    "### Multi-process support\n",
    "\n",
    "## Signal handling\n",
    "\n",
    "## Remote Console"
   ]
  }
 ],
 "metadata": {
  "kernelspec": {
   "display_name": "Python 2",
   "language": "python",
   "name": "python2"
  },
  "language_info": {
   "codemirror_mode": {
    "name": "ipython",
    "version": 2
   },
   "file_extension": ".py",
   "mimetype": "text/x-python",
   "name": "python",
   "nbconvert_exporter": "python",
   "pygments_lexer": "ipython2",
   "version": "2.7.5"
  }
 },
 "nbformat": 4,
 "nbformat_minor": 2
}
