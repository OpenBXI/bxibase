{
 "cells": [
  {
   "cell_type": "markdown",
   "metadata": {},
   "source": [
    "# Performance of bxilog Python library"
   ]
  },
  {
   "cell_type": "markdown",
   "metadata": {},
   "source": [
    "## Case 1: default config, no output at all"
   ]
  },
  {
   "cell_type": "code",
   "execution_count": 20,
   "metadata": {},
   "outputs": [
    {
     "name": "stdout",
     "output_type": "stream",
     "text": [
      "logging:  1.54642987251\n",
      "bxilog:  1.52658987045\n"
     ]
    }
   ],
   "source": [
    "import sys\n",
    "import timeit\n",
    "import logging\n",
    "import bxi.base.log as bxilog\n",
    "\n",
    "logging_logger = logging.getLogger('Foo')\n",
    "bxilog_logger = bxilog.getLogger('Foo')\n",
    "\n",
    "def bench_logging():\n",
    "    logging_logger.debug(\"Nothing to say\")\n",
    "    \n",
    "def bench_bxilog():\n",
    "    bxilog_logger.debug(\"Nothing to say\")\n",
    "\n",
    "number = 100000000\n",
    "print \"logging: \", timeit.timeit(\"bench_logging\", setup=\"from __main__ import bench_logging\", number=number)\n",
    "print \"bxilog: \", timeit.timeit(\"bench_bxilog\", setup=\"from __main__ import bench_bxilog\", number=number)"
   ]
  },
  {
   "cell_type": "markdown",
   "metadata": {},
   "source": [
    "## Case 2: specific config with no handler at all"
   ]
  },
  {
   "cell_type": "code",
   "execution_count": 28,
   "metadata": {},
   "outputs": [
    {
     "name": "stdout",
     "output_type": "stream",
     "text": [
      "logging:  1.5667848587\n",
      "bxilog:  1.5268509388\n"
     ]
    }
   ],
   "source": [
    "import sys\n",
    "import timeit\n",
    "import logging\n",
    "import logging.config \n",
    "import bxi.base.log as bxilog\n",
    "\n",
    "logging.config.dictConfig({'version': 1})\n",
    "bxilog.set_config({'handlers': []})\n",
    "\n",
    "logging_logger = logging.getLogger('Foo')\n",
    "bxilog_logger = bxilog.getLogger('Foo')\n",
    "\n",
    "def bench_logging():\n",
    "    logging_logger.debug(\"Nothing to say\")\n",
    "    \n",
    "def bench_bxilog():\n",
    "    bxilog_logger.debug(\"Nothing to say\")\n",
    "\n",
    "number = 100000000\n",
    "print \"logging: \", timeit.timeit(\"bench_logging\", setup=\"from __main__ import bench_logging\", number=number)\n",
    "print \"bxilog: \", timeit.timeit(\"bench_bxilog\", setup=\"from __main__ import bench_bxilog\", number=number)"
   ]
  },
  {
   "cell_type": "markdown",
   "metadata": {},
   "source": [
    "## Case 3: specific config with a file handler, do output"
   ]
  },
  {
   "cell_type": "code",
   "execution_count": 4,
   "metadata": {},
   "outputs": [
    {
     "name": "stdout",
     "output_type": "stream",
     "text": [
      "logging:  3.40938568115e-05\n",
      "bxilog:  0.000264883041382\n",
      "ks-script-LRoSA2  yum.log\n"
     ]
    }
   ],
   "source": [
    "import sys\n",
    "import timeit\n",
    "import logging\n",
    "import logging.config \n",
    "import bxi.base.log as bxilog\n",
    "\n",
    "logging.config.dictConfig({'version': 1,\n",
    "                          'handlers': { 'file': {'class': 'logging.handlers.RotatingFileHandler',\n",
    "                                                 'filename': '/tmp/logging-perf.log'}\n",
    "                                      }\n",
    "                          })\n",
    "bxilog.set_config({'handlers': ['console', 'file'],\n",
    "                   'file': {'module': 'bxi.base.log.file_handler',\n",
    "                            'filters': ':output',\n",
    "                            'append': False,\n",
    "                            'path': '/tmp/bxilog-perf.log'},\n",
    "                   'console': {'module': 'bxi.base.log.console_handler',\n",
    "                            'filters': ':lowest',\n",
    "                            'stderr_level': 'warning',\n",
    "                            'colors': 'none',\n",
    "                            }\n",
    "                  })\n",
    "\n",
    "logging_logger = logging.getLogger('Foo')\n",
    "bxilog_logger = bxilog.getLogger('Foo')\n",
    "\n",
    "\n",
    "def bench_logging():\n",
    "    logging_logger.output(\"Nothing to say\")\n",
    "    \n",
    "def bench_bxilog():\n",
    "    bxilog_logger.output(\"Nothing to say\")\n",
    "\n",
    "!rm -f /tmp/logging-perf.log /tmp/bxilog-perf.log\n",
    "number = 1000\n",
    "print \"logging: \", timeit.timeit(\"bench_logging\", setup=\"from __main__ import bench_logging\", number=number)\n",
    "print \"bxilog: \", timeit.timeit(\"bench_bxilog\", setup=\"from __main__ import bench_bxilog\", number=number)\n",
    "!ls /tmp"
   ]
  },
  {
   "cell_type": "code",
   "execution_count": null,
   "metadata": {
    "collapsed": true
   },
   "outputs": [],
   "source": []
  }
 ],
 "metadata": {
  "kernelspec": {
   "display_name": "Python 2",
   "language": "python",
   "name": "python2"
  },
  "language_info": {
   "codemirror_mode": {
    "name": "ipython",
    "version": 2
   },
   "file_extension": ".py",
   "mimetype": "text/x-python",
   "name": "python",
   "nbconvert_exporter": "python",
   "pygments_lexer": "ipython2",
   "version": "2.7.5"
  }
 },
 "nbformat": 4,
 "nbformat_minor": 2
}
